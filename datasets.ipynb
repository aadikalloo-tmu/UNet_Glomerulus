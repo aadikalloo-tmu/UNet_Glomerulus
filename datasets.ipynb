{
 "cells": [
  {
   "cell_type": "code",
   "execution_count": null,
   "id": "initial_id",
   "metadata": {
    "collapsed": true
   },
   "outputs": [],
   "source": [
    "import pandas as pd\n",
    "from glob import glob\n",
    "import os\n",
    "from PIL import Image\n",
    "import numpy as np\n",
    "import cv2"
   ]
  },
  {
   "cell_type": "code",
   "execution_count": null,
   "outputs": [],
   "source": [
    "files = glob(r\"C:\\Users\\akalloo\\Downloads\\Pre-trained models\\HE_glom_capsule/*.png\")\n",
    "masks = glob(r\"C:\\Users\\akalloo\\Downloads\\Pre-trained models\\HE_glom_capsule/masks/*.png\")\n"
   ],
   "metadata": {
    "collapsed": false
   },
   "id": "9751db8a450a3e94"
  },
  {
   "cell_type": "code",
   "execution_count": null,
   "outputs": [],
   "source": [
    "intersection_files = set([os.path.basename(x).replace(\"_mask\", \"\")  for x in masks]).intersection(set([os.path.basename(s)for s in files]))"
   ],
   "metadata": {
    "collapsed": false
   },
   "id": "3ecca0049b139f50"
  },
  {
   "cell_type": "code",
   "execution_count": null,
   "outputs": [],
   "source": [
    "files = [s for s in files if os.path.basename(s) in intersection_files]\n"
   ],
   "metadata": {
    "collapsed": false
   },
   "id": "a969fc36bb5b0435"
  },
  {
   "cell_type": "code",
   "execution_count": null,
   "outputs": [],
   "source": [
    "df = pd.DataFrame({\"image\": files})"
   ],
   "metadata": {
    "collapsed": false
   },
   "id": "619e681c0fcae295"
  },
  {
   "cell_type": "code",
   "execution_count": null,
   "outputs": [],
   "source": [
    "df[\"masks\"] = [x.replace(\".png\", \"_mask.png\").replace(\"HE_glom_capsule\", \"HE_glom_capsule\\\\masks\") for x in df[\"image\"]]"
   ],
   "metadata": {
    "collapsed": false
   },
   "id": "544f1a2ddd360a13"
  },
  {
   "cell_type": "code",
   "execution_count": null,
   "outputs": [],
   "source": [
    "answers = dict()"
   ],
   "metadata": {
    "collapsed": false
   },
   "id": "a3bc79af53a5ac4f"
  },
  {
   "cell_type": "code",
   "execution_count": null,
   "outputs": [],
   "source": [
    "\n"
   ],
   "metadata": {
    "collapsed": false
   },
   "id": "26e468172efb4e19"
  },
  {
   "cell_type": "code",
   "execution_count": null,
   "outputs": [],
   "source": [
    "x = input()\n",
    "answers[110] = x\n",
    "answers"
   ],
   "metadata": {
    "collapsed": false
   },
   "id": "b125c58d2d7a8a4a"
  },
  {
   "cell_type": "code",
   "execution_count": null,
   "outputs": [],
   "source": [
    "def concat_images(imga, imgb):\n",
    "    \"\"\"\n",
    "    Combines two color image ndarrays side-by-side.\n",
    "    \"\"\"\n",
    "    ha,wa = imga.shape[:2]\n",
    "    hb,wb = imgb.shape[:2]\n",
    "    max_height = np.max([ha, hb])\n",
    "    total_width = wa+wb\n",
    "    new_img = np.zeros(shape=(max_height, total_width, 3))\n",
    "    new_img[:ha,:wa]=imga\n",
    "    new_img[:hb,wa:wa+wb]=imgb\n",
    "    return new_img\n",
    "\n",
    "def append_images(images, direction='horizontal',\n",
    "                  bg_color=(255,255,255), aligment='center'):\n",
    "    \"\"\"\n",
    "    Appends images in horizontal/vertical direction.\n",
    "\n",
    "    Args:\n",
    "        images: List of PIL images\n",
    "        direction: direction of concatenation, 'horizontal' or 'vertical'\n",
    "        bg_color: Background color (default: white)\n",
    "        aligment: alignment mode if images need padding;\n",
    "           'left', 'right', 'top', 'bottom', or 'center'\n",
    "\n",
    "    Returns:\n",
    "        Concatenated image as a new PIL image object.\n",
    "    \"\"\"\n",
    "    widths, heights = zip(*(i.size for i in images))\n",
    "\n",
    "    if direction=='horizontal':\n",
    "        new_width = sum(widths)\n",
    "        new_height = max(heights)\n",
    "    else:\n",
    "        new_width = max(widths)\n",
    "        new_height = sum(heights)\n",
    "\n",
    "    new_im = Image.new('RGB', (new_width, new_height), color=bg_color)\n",
    "\n",
    "\n",
    "    offset = 0\n",
    "    for im in images:\n",
    "        if direction=='horizontal':\n",
    "            y = 0\n",
    "            if aligment == 'center':\n",
    "                y = int((new_height - im.size[1])/2)\n",
    "            elif aligment == 'bottom':\n",
    "                y = new_height - im.size[1]\n",
    "            new_im.paste(im, (offset, y))\n",
    "            offset += im.size[0]\n",
    "        else:\n",
    "            x = 0\n",
    "            if aligment == 'center':\n",
    "                x = int((new_width - im.size[0])/2)\n",
    "            elif aligment == 'right':\n",
    "                x = new_width - im.size[0]\n",
    "            new_im.paste(im, (x, offset))\n",
    "            offset += im.size[1]\n",
    "\n",
    "    return new_im\n",
    "\n",
    "def pad_images_to_same_size(images):\n",
    "    \"\"\"\n",
    "    :param images: sequence of images\n",
    "    :return: list of images padded so that all images have same width and height (max width and height are used)\n",
    "    \"\"\"\n",
    "    width_max = 0\n",
    "    height_max = 0\n",
    "    for img in images:\n",
    "        h, w = img.shape[:2]\n",
    "        width_max = max(width_max, w)\n",
    "        height_max = max(height_max, h)\n",
    "\n",
    "    images_padded = []\n",
    "    for img in images:\n",
    "        h, w = img.shape[:2]\n",
    "        diff_vert = height_max - h\n",
    "        pad_top = diff_vert//2\n",
    "        pad_bottom = diff_vert - pad_top\n",
    "        diff_hori = width_max - w\n",
    "        pad_left = diff_hori//2\n",
    "        pad_right = diff_hori - pad_left\n",
    "        img_padded = cv2.copyMakeBorder(img, pad_top, pad_bottom, pad_left, pad_right, cv2.BORDER_CONSTANT, value=0)\n",
    "        assert img_padded.shape[:2] == (height_max, width_max)\n",
    "        images_padded.append(img_padded)\n",
    "\n",
    "    return images_padded"
   ],
   "metadata": {
    "collapsed": false
   },
   "id": "d586db8f5206945c"
  },
  {
   "cell_type": "code",
   "execution_count": null,
   "outputs": [],
   "source": [],
   "metadata": {
    "collapsed": false
   },
   "id": "8814ae7555e77df8"
  },
  {
   "cell_type": "code",
   "execution_count": null,
   "outputs": [],
   "source": [],
   "metadata": {
    "collapsed": false
   },
   "id": "fec714b88dc40db8"
  },
  {
   "cell_type": "code",
   "execution_count": null,
   "outputs": [],
   "source": [
    "answers = dict()\n",
    "for idx in range(df.shape[0]):\n",
    "\n",
    "    im = cv2.imread(df[\"image\"].iloc[idx])\n",
    "    mask = cv2.imread(df[\"masks\"].iloc[idx])\n",
    "    im, mask = pad_images_to_same_size([im, mask])\n",
    "    \n",
    "    append_images([Image.fromarray(im), Image.fromarray(mask), Image.fromarray(cv2.bitwise_and(im, mask))]).show()\n",
    "\n",
    "    \n",
    "    x = input()\n",
    "    answers[idx] = x\n"
   ],
   "metadata": {
    "collapsed": false
   },
   "id": "39bfaae4a83bc73a"
  },
  {
   "cell_type": "code",
   "execution_count": null,
   "outputs": [],
   "source": [
    "filtered = {x: y for x, y in answers_.items() if (y == '1' or y == 'y')}"
   ],
   "metadata": {
    "collapsed": false
   },
   "id": "5b1f22289f32b826"
  },
  {
   "cell_type": "code",
   "execution_count": null,
   "outputs": [],
   "source": [
    "filtered = sorted(filtered.keys())\n",
    "filtered"
   ],
   "metadata": {
    "collapsed": false
   },
   "id": "2e1a58097afe4140"
  },
  {
   "cell_type": "code",
   "execution_count": null,
   "outputs": [],
   "source": [
    "df = df.iloc[filtered]"
   ],
   "metadata": {
    "collapsed": false
   },
   "id": "532c7be82cc94b9c"
  },
  {
   "cell_type": "code",
   "execution_count": null,
   "outputs": [],
   "source": [
    "df = df.reset_index(drop=True)\n",
    "\n",
    "train = df.sample(frac=0.5)\n",
    "test = df[~df.index.isin(train.index)].reset_index(drop=True)\n",
    "train = train.reset_index(drop=True)"
   ],
   "metadata": {
    "collapsed": false
   },
   "id": "1fb1cb5ff9130c9b"
  },
  {
   "cell_type": "code",
   "execution_count": null,
   "outputs": [],
   "source": [
    "train.to_csv(r\"C:\\Users\\akalloo\\Documents\\GitHub\\UNet_Glomerulus/train.csv\")"
   ],
   "metadata": {
    "collapsed": false
   },
   "id": "6921495e4506e2a"
  },
  {
   "cell_type": "code",
   "execution_count": null,
   "outputs": [],
   "source": [
    "test.to_csv(r\"C:\\Users\\akalloo\\Documents\\GitHub\\UNet_Glomerulus/test.csv\")\n"
   ],
   "metadata": {
    "collapsed": false
   },
   "id": "544775c70389d2f9"
  },
  {
   "cell_type": "code",
   "execution_count": null,
   "outputs": [],
   "source": [
    "test"
   ],
   "metadata": {
    "collapsed": false
   },
   "id": "68298a7719447845"
  },
  {
   "cell_type": "code",
   "execution_count": 257,
   "outputs": [],
   "source": [
    "import re"
   ],
   "metadata": {
    "collapsed": false,
    "ExecuteTime": {
     "end_time": "2023-12-04T17:21:05.509213700Z",
     "start_time": "2023-12-04T17:21:05.503922400Z"
    }
   },
   "id": "d36b7b2c34a1a33f"
  },
  {
   "cell_type": "code",
   "execution_count": 256,
   "outputs": [
    {
     "data": {
      "text/plain": "['C:\\\\Users\\\\akalloo\\\\Documents\\\\GitHub\\\\UNet_Glomerulus\\\\figure\\\\im_100_image_1.png',\n 'C:\\\\Users\\\\akalloo\\\\Documents\\\\GitHub\\\\UNet_Glomerulus\\\\figure\\\\im_100_mask_1.png',\n 'C:\\\\Users\\\\akalloo\\\\Documents\\\\GitHub\\\\UNet_Glomerulus\\\\figure\\\\im_100_predicted_1.png',\n 'C:\\\\Users\\\\akalloo\\\\Documents\\\\GitHub\\\\UNet_Glomerulus\\\\figure\\\\im_103_image_2.png',\n 'C:\\\\Users\\\\akalloo\\\\Documents\\\\GitHub\\\\UNet_Glomerulus\\\\figure\\\\im_103_mask_2.png',\n 'C:\\\\Users\\\\akalloo\\\\Documents\\\\GitHub\\\\UNet_Glomerulus\\\\figure\\\\im_103_predicted_2.png',\n 'C:\\\\Users\\\\akalloo\\\\Documents\\\\GitHub\\\\UNet_Glomerulus\\\\figure\\\\im_106_image_3.png',\n 'C:\\\\Users\\\\akalloo\\\\Documents\\\\GitHub\\\\UNet_Glomerulus\\\\figure\\\\im_106_mask_3.png',\n 'C:\\\\Users\\\\akalloo\\\\Documents\\\\GitHub\\\\UNet_Glomerulus\\\\figure\\\\im_106_predicted_3.png',\n 'C:\\\\Users\\\\akalloo\\\\Documents\\\\GitHub\\\\UNet_Glomerulus\\\\figure\\\\im_107_image_4.png',\n 'C:\\\\Users\\\\akalloo\\\\Documents\\\\GitHub\\\\UNet_Glomerulus\\\\figure\\\\im_107_mask_4.png',\n 'C:\\\\Users\\\\akalloo\\\\Documents\\\\GitHub\\\\UNet_Glomerulus\\\\figure\\\\im_107_predicted_4.png',\n 'C:\\\\Users\\\\akalloo\\\\Documents\\\\GitHub\\\\UNet_Glomerulus\\\\figure\\\\im_109_image_5.png',\n 'C:\\\\Users\\\\akalloo\\\\Documents\\\\GitHub\\\\UNet_Glomerulus\\\\figure\\\\im_109_mask_5.png',\n 'C:\\\\Users\\\\akalloo\\\\Documents\\\\GitHub\\\\UNet_Glomerulus\\\\figure\\\\im_109_predicted_5.png',\n 'C:\\\\Users\\\\akalloo\\\\Documents\\\\GitHub\\\\UNet_Glomerulus\\\\figure\\\\im_110_image_7.png',\n 'C:\\\\Users\\\\akalloo\\\\Documents\\\\GitHub\\\\UNet_Glomerulus\\\\figure\\\\im_110_mask_7.png',\n 'C:\\\\Users\\\\akalloo\\\\Documents\\\\GitHub\\\\UNet_Glomerulus\\\\figure\\\\im_110_predicted_7.png',\n 'C:\\\\Users\\\\akalloo\\\\Documents\\\\GitHub\\\\UNet_Glomerulus\\\\figure\\\\im_111_image_8.png',\n 'C:\\\\Users\\\\akalloo\\\\Documents\\\\GitHub\\\\UNet_Glomerulus\\\\figure\\\\im_111_mask_8.png',\n 'C:\\\\Users\\\\akalloo\\\\Documents\\\\GitHub\\\\UNet_Glomerulus\\\\figure\\\\im_111_predicted_8.png',\n 'C:\\\\Users\\\\akalloo\\\\Documents\\\\GitHub\\\\UNet_Glomerulus\\\\figure\\\\im_112_image_9.png',\n 'C:\\\\Users\\\\akalloo\\\\Documents\\\\GitHub\\\\UNet_Glomerulus\\\\figure\\\\im_112_mask_9.png',\n 'C:\\\\Users\\\\akalloo\\\\Documents\\\\GitHub\\\\UNet_Glomerulus\\\\figure\\\\im_112_predicted_9.png',\n 'C:\\\\Users\\\\akalloo\\\\Documents\\\\GitHub\\\\UNet_Glomerulus\\\\figure\\\\im_115_image_10.png',\n 'C:\\\\Users\\\\akalloo\\\\Documents\\\\GitHub\\\\UNet_Glomerulus\\\\figure\\\\im_115_mask_10.png',\n 'C:\\\\Users\\\\akalloo\\\\Documents\\\\GitHub\\\\UNet_Glomerulus\\\\figure\\\\im_115_predicted_10.png',\n 'C:\\\\Users\\\\akalloo\\\\Documents\\\\GitHub\\\\UNet_Glomerulus\\\\figure\\\\im_116_image_11.png',\n 'C:\\\\Users\\\\akalloo\\\\Documents\\\\GitHub\\\\UNet_Glomerulus\\\\figure\\\\im_116_mask_11.png',\n 'C:\\\\Users\\\\akalloo\\\\Documents\\\\GitHub\\\\UNet_Glomerulus\\\\figure\\\\im_116_predicted_11.png',\n 'C:\\\\Users\\\\akalloo\\\\Documents\\\\GitHub\\\\UNet_Glomerulus\\\\figure\\\\im_117_image_12.png',\n 'C:\\\\Users\\\\akalloo\\\\Documents\\\\GitHub\\\\UNet_Glomerulus\\\\figure\\\\im_117_mask_12.png',\n 'C:\\\\Users\\\\akalloo\\\\Documents\\\\GitHub\\\\UNet_Glomerulus\\\\figure\\\\im_117_predicted_12.png',\n 'C:\\\\Users\\\\akalloo\\\\Documents\\\\GitHub\\\\UNet_Glomerulus\\\\figure\\\\im_118_image_13.png',\n 'C:\\\\Users\\\\akalloo\\\\Documents\\\\GitHub\\\\UNet_Glomerulus\\\\figure\\\\im_118_mask_13.png',\n 'C:\\\\Users\\\\akalloo\\\\Documents\\\\GitHub\\\\UNet_Glomerulus\\\\figure\\\\im_118_predicted_13.png',\n 'C:\\\\Users\\\\akalloo\\\\Documents\\\\GitHub\\\\UNet_Glomerulus\\\\figure\\\\im_11_image_6.png',\n 'C:\\\\Users\\\\akalloo\\\\Documents\\\\GitHub\\\\UNet_Glomerulus\\\\figure\\\\im_11_mask_6.png',\n 'C:\\\\Users\\\\akalloo\\\\Documents\\\\GitHub\\\\UNet_Glomerulus\\\\figure\\\\im_11_predicted_6.png',\n 'C:\\\\Users\\\\akalloo\\\\Documents\\\\GitHub\\\\UNet_Glomerulus\\\\figure\\\\im_121_image_14.png',\n 'C:\\\\Users\\\\akalloo\\\\Documents\\\\GitHub\\\\UNet_Glomerulus\\\\figure\\\\im_121_mask_14.png',\n 'C:\\\\Users\\\\akalloo\\\\Documents\\\\GitHub\\\\UNet_Glomerulus\\\\figure\\\\im_121_predicted_14.png',\n 'C:\\\\Users\\\\akalloo\\\\Documents\\\\GitHub\\\\UNet_Glomerulus\\\\figure\\\\im_122_image_15.png',\n 'C:\\\\Users\\\\akalloo\\\\Documents\\\\GitHub\\\\UNet_Glomerulus\\\\figure\\\\im_122_mask_15.png',\n 'C:\\\\Users\\\\akalloo\\\\Documents\\\\GitHub\\\\UNet_Glomerulus\\\\figure\\\\im_122_predicted_15.png',\n 'C:\\\\Users\\\\akalloo\\\\Documents\\\\GitHub\\\\UNet_Glomerulus\\\\figure\\\\im_124_image_16.png',\n 'C:\\\\Users\\\\akalloo\\\\Documents\\\\GitHub\\\\UNet_Glomerulus\\\\figure\\\\im_124_mask_16.png',\n 'C:\\\\Users\\\\akalloo\\\\Documents\\\\GitHub\\\\UNet_Glomerulus\\\\figure\\\\im_124_predicted_16.png',\n 'C:\\\\Users\\\\akalloo\\\\Documents\\\\GitHub\\\\UNet_Glomerulus\\\\figure\\\\im_125_image_17.png',\n 'C:\\\\Users\\\\akalloo\\\\Documents\\\\GitHub\\\\UNet_Glomerulus\\\\figure\\\\im_125_mask_17.png',\n 'C:\\\\Users\\\\akalloo\\\\Documents\\\\GitHub\\\\UNet_Glomerulus\\\\figure\\\\im_125_predicted_17.png',\n 'C:\\\\Users\\\\akalloo\\\\Documents\\\\GitHub\\\\UNet_Glomerulus\\\\figure\\\\im_126_image_18.png',\n 'C:\\\\Users\\\\akalloo\\\\Documents\\\\GitHub\\\\UNet_Glomerulus\\\\figure\\\\im_126_mask_18.png',\n 'C:\\\\Users\\\\akalloo\\\\Documents\\\\GitHub\\\\UNet_Glomerulus\\\\figure\\\\im_126_predicted_18.png',\n 'C:\\\\Users\\\\akalloo\\\\Documents\\\\GitHub\\\\UNet_Glomerulus\\\\figure\\\\im_128_image_19.png',\n 'C:\\\\Users\\\\akalloo\\\\Documents\\\\GitHub\\\\UNet_Glomerulus\\\\figure\\\\im_128_mask_19.png',\n 'C:\\\\Users\\\\akalloo\\\\Documents\\\\GitHub\\\\UNet_Glomerulus\\\\figure\\\\im_128_predicted_19.png',\n 'C:\\\\Users\\\\akalloo\\\\Documents\\\\GitHub\\\\UNet_Glomerulus\\\\figure\\\\im_130_image_21.png',\n 'C:\\\\Users\\\\akalloo\\\\Documents\\\\GitHub\\\\UNet_Glomerulus\\\\figure\\\\im_130_mask_21.png',\n 'C:\\\\Users\\\\akalloo\\\\Documents\\\\GitHub\\\\UNet_Glomerulus\\\\figure\\\\im_130_predicted_21.png',\n 'C:\\\\Users\\\\akalloo\\\\Documents\\\\GitHub\\\\UNet_Glomerulus\\\\figure\\\\im_135_image_22.png',\n 'C:\\\\Users\\\\akalloo\\\\Documents\\\\GitHub\\\\UNet_Glomerulus\\\\figure\\\\im_135_mask_22.png',\n 'C:\\\\Users\\\\akalloo\\\\Documents\\\\GitHub\\\\UNet_Glomerulus\\\\figure\\\\im_135_predicted_22.png',\n 'C:\\\\Users\\\\akalloo\\\\Documents\\\\GitHub\\\\UNet_Glomerulus\\\\figure\\\\im_138_image_23.png',\n 'C:\\\\Users\\\\akalloo\\\\Documents\\\\GitHub\\\\UNet_Glomerulus\\\\figure\\\\im_138_mask_23.png',\n 'C:\\\\Users\\\\akalloo\\\\Documents\\\\GitHub\\\\UNet_Glomerulus\\\\figure\\\\im_138_predicted_23.png',\n 'C:\\\\Users\\\\akalloo\\\\Documents\\\\GitHub\\\\UNet_Glomerulus\\\\figure\\\\im_13_image_20.png',\n 'C:\\\\Users\\\\akalloo\\\\Documents\\\\GitHub\\\\UNet_Glomerulus\\\\figure\\\\im_13_mask_20.png',\n 'C:\\\\Users\\\\akalloo\\\\Documents\\\\GitHub\\\\UNet_Glomerulus\\\\figure\\\\im_13_predicted_20.png',\n 'C:\\\\Users\\\\akalloo\\\\Documents\\\\GitHub\\\\UNet_Glomerulus\\\\figure\\\\im_143_image_25.png',\n 'C:\\\\Users\\\\akalloo\\\\Documents\\\\GitHub\\\\UNet_Glomerulus\\\\figure\\\\im_143_mask_25.png',\n 'C:\\\\Users\\\\akalloo\\\\Documents\\\\GitHub\\\\UNet_Glomerulus\\\\figure\\\\im_143_predicted_25.png',\n 'C:\\\\Users\\\\akalloo\\\\Documents\\\\GitHub\\\\UNet_Glomerulus\\\\figure\\\\im_144_image_26.png',\n 'C:\\\\Users\\\\akalloo\\\\Documents\\\\GitHub\\\\UNet_Glomerulus\\\\figure\\\\im_144_mask_26.png',\n 'C:\\\\Users\\\\akalloo\\\\Documents\\\\GitHub\\\\UNet_Glomerulus\\\\figure\\\\im_144_predicted_26.png',\n 'C:\\\\Users\\\\akalloo\\\\Documents\\\\GitHub\\\\UNet_Glomerulus\\\\figure\\\\im_148_image_27.png',\n 'C:\\\\Users\\\\akalloo\\\\Documents\\\\GitHub\\\\UNet_Glomerulus\\\\figure\\\\im_148_mask_27.png',\n 'C:\\\\Users\\\\akalloo\\\\Documents\\\\GitHub\\\\UNet_Glomerulus\\\\figure\\\\im_148_predicted_27.png',\n 'C:\\\\Users\\\\akalloo\\\\Documents\\\\GitHub\\\\UNet_Glomerulus\\\\figure\\\\im_14_image_24.png',\n 'C:\\\\Users\\\\akalloo\\\\Documents\\\\GitHub\\\\UNet_Glomerulus\\\\figure\\\\im_14_mask_24.png',\n 'C:\\\\Users\\\\akalloo\\\\Documents\\\\GitHub\\\\UNet_Glomerulus\\\\figure\\\\im_14_predicted_24.png',\n 'C:\\\\Users\\\\akalloo\\\\Documents\\\\GitHub\\\\UNet_Glomerulus\\\\figure\\\\im_151_image_28.png',\n 'C:\\\\Users\\\\akalloo\\\\Documents\\\\GitHub\\\\UNet_Glomerulus\\\\figure\\\\im_151_mask_28.png',\n 'C:\\\\Users\\\\akalloo\\\\Documents\\\\GitHub\\\\UNet_Glomerulus\\\\figure\\\\im_151_predicted_28.png',\n 'C:\\\\Users\\\\akalloo\\\\Documents\\\\GitHub\\\\UNet_Glomerulus\\\\figure\\\\im_152_image_29.png',\n 'C:\\\\Users\\\\akalloo\\\\Documents\\\\GitHub\\\\UNet_Glomerulus\\\\figure\\\\im_152_mask_29.png',\n 'C:\\\\Users\\\\akalloo\\\\Documents\\\\GitHub\\\\UNet_Glomerulus\\\\figure\\\\im_152_predicted_29.png',\n 'C:\\\\Users\\\\akalloo\\\\Documents\\\\GitHub\\\\UNet_Glomerulus\\\\figure\\\\im_153_image_30.png',\n 'C:\\\\Users\\\\akalloo\\\\Documents\\\\GitHub\\\\UNet_Glomerulus\\\\figure\\\\im_153_mask_30.png',\n 'C:\\\\Users\\\\akalloo\\\\Documents\\\\GitHub\\\\UNet_Glomerulus\\\\figure\\\\im_153_predicted_30.png',\n 'C:\\\\Users\\\\akalloo\\\\Documents\\\\GitHub\\\\UNet_Glomerulus\\\\figure\\\\im_155_image_31.png',\n 'C:\\\\Users\\\\akalloo\\\\Documents\\\\GitHub\\\\UNet_Glomerulus\\\\figure\\\\im_155_mask_31.png',\n 'C:\\\\Users\\\\akalloo\\\\Documents\\\\GitHub\\\\UNet_Glomerulus\\\\figure\\\\im_155_predicted_31.png',\n 'C:\\\\Users\\\\akalloo\\\\Documents\\\\GitHub\\\\UNet_Glomerulus\\\\figure\\\\im_156_image_32.png',\n 'C:\\\\Users\\\\akalloo\\\\Documents\\\\GitHub\\\\UNet_Glomerulus\\\\figure\\\\im_156_mask_32.png',\n 'C:\\\\Users\\\\akalloo\\\\Documents\\\\GitHub\\\\UNet_Glomerulus\\\\figure\\\\im_156_predicted_32.png',\n 'C:\\\\Users\\\\akalloo\\\\Documents\\\\GitHub\\\\UNet_Glomerulus\\\\figure\\\\im_1_image_0.png',\n 'C:\\\\Users\\\\akalloo\\\\Documents\\\\GitHub\\\\UNet_Glomerulus\\\\figure\\\\im_1_mask_0.png',\n 'C:\\\\Users\\\\akalloo\\\\Documents\\\\GitHub\\\\UNet_Glomerulus\\\\figure\\\\im_1_predicted_0.png',\n 'C:\\\\Users\\\\akalloo\\\\Documents\\\\GitHub\\\\UNet_Glomerulus\\\\figure\\\\im_2_image_33.png',\n 'C:\\\\Users\\\\akalloo\\\\Documents\\\\GitHub\\\\UNet_Glomerulus\\\\figure\\\\im_2_mask_33.png',\n 'C:\\\\Users\\\\akalloo\\\\Documents\\\\GitHub\\\\UNet_Glomerulus\\\\figure\\\\im_2_predicted_33.png',\n 'C:\\\\Users\\\\akalloo\\\\Documents\\\\GitHub\\\\UNet_Glomerulus\\\\figure\\\\im_5_image_34.png',\n 'C:\\\\Users\\\\akalloo\\\\Documents\\\\GitHub\\\\UNet_Glomerulus\\\\figure\\\\im_5_mask_34.png',\n 'C:\\\\Users\\\\akalloo\\\\Documents\\\\GitHub\\\\UNet_Glomerulus\\\\figure\\\\im_5_predicted_34.png',\n 'C:\\\\Users\\\\akalloo\\\\Documents\\\\GitHub\\\\UNet_Glomerulus\\\\figure\\\\im_6_image_35.png',\n 'C:\\\\Users\\\\akalloo\\\\Documents\\\\GitHub\\\\UNet_Glomerulus\\\\figure\\\\im_6_mask_35.png',\n 'C:\\\\Users\\\\akalloo\\\\Documents\\\\GitHub\\\\UNet_Glomerulus\\\\figure\\\\im_6_predicted_35.png',\n 'C:\\\\Users\\\\akalloo\\\\Documents\\\\GitHub\\\\UNet_Glomerulus\\\\figure\\\\im_7_image_36.png',\n 'C:\\\\Users\\\\akalloo\\\\Documents\\\\GitHub\\\\UNet_Glomerulus\\\\figure\\\\im_7_mask_36.png',\n 'C:\\\\Users\\\\akalloo\\\\Documents\\\\GitHub\\\\UNet_Glomerulus\\\\figure\\\\im_7_predicted_36.png',\n 'C:\\\\Users\\\\akalloo\\\\Documents\\\\GitHub\\\\UNet_Glomerulus\\\\figure\\\\im_81_image_37.png',\n 'C:\\\\Users\\\\akalloo\\\\Documents\\\\GitHub\\\\UNet_Glomerulus\\\\figure\\\\im_81_mask_37.png',\n 'C:\\\\Users\\\\akalloo\\\\Documents\\\\GitHub\\\\UNet_Glomerulus\\\\figure\\\\im_81_predicted_37.png',\n 'C:\\\\Users\\\\akalloo\\\\Documents\\\\GitHub\\\\UNet_Glomerulus\\\\figure\\\\im_89_image_38.png',\n 'C:\\\\Users\\\\akalloo\\\\Documents\\\\GitHub\\\\UNet_Glomerulus\\\\figure\\\\im_89_mask_38.png',\n 'C:\\\\Users\\\\akalloo\\\\Documents\\\\GitHub\\\\UNet_Glomerulus\\\\figure\\\\im_89_predicted_38.png',\n 'C:\\\\Users\\\\akalloo\\\\Documents\\\\GitHub\\\\UNet_Glomerulus\\\\figure\\\\im_96_image_39.png',\n 'C:\\\\Users\\\\akalloo\\\\Documents\\\\GitHub\\\\UNet_Glomerulus\\\\figure\\\\im_96_mask_39.png',\n 'C:\\\\Users\\\\akalloo\\\\Documents\\\\GitHub\\\\UNet_Glomerulus\\\\figure\\\\im_96_predicted_39.png',\n 'C:\\\\Users\\\\akalloo\\\\Documents\\\\GitHub\\\\UNet_Glomerulus\\\\figure\\\\im_98_image_40.png',\n 'C:\\\\Users\\\\akalloo\\\\Documents\\\\GitHub\\\\UNet_Glomerulus\\\\figure\\\\im_98_mask_40.png',\n 'C:\\\\Users\\\\akalloo\\\\Documents\\\\GitHub\\\\UNet_Glomerulus\\\\figure\\\\im_98_predicted_40.png',\n 'C:\\\\Users\\\\akalloo\\\\Documents\\\\GitHub\\\\UNet_Glomerulus\\\\figure\\\\UHN_Slide01_29435_14192_image_41.png',\n 'C:\\\\Users\\\\akalloo\\\\Documents\\\\GitHub\\\\UNet_Glomerulus\\\\figure\\\\UHN_Slide01_29435_14192_mask_41.png',\n 'C:\\\\Users\\\\akalloo\\\\Documents\\\\GitHub\\\\UNet_Glomerulus\\\\figure\\\\UHN_Slide01_29435_14192_predicted_41.png',\n 'C:\\\\Users\\\\akalloo\\\\Documents\\\\GitHub\\\\UNet_Glomerulus\\\\figure\\\\UHN_Slide01_34543_12100_image_42.png',\n 'C:\\\\Users\\\\akalloo\\\\Documents\\\\GitHub\\\\UNet_Glomerulus\\\\figure\\\\UHN_Slide01_34543_12100_mask_42.png',\n 'C:\\\\Users\\\\akalloo\\\\Documents\\\\GitHub\\\\UNet_Glomerulus\\\\figure\\\\UHN_Slide01_34543_12100_predicted_42.png',\n 'C:\\\\Users\\\\akalloo\\\\Documents\\\\GitHub\\\\UNet_Glomerulus\\\\figure\\\\UHN_Slide02_20909_11429_image_43.png',\n 'C:\\\\Users\\\\akalloo\\\\Documents\\\\GitHub\\\\UNet_Glomerulus\\\\figure\\\\UHN_Slide02_20909_11429_mask_43.png',\n 'C:\\\\Users\\\\akalloo\\\\Documents\\\\GitHub\\\\UNet_Glomerulus\\\\figure\\\\UHN_Slide02_20909_11429_predicted_43.png',\n 'C:\\\\Users\\\\akalloo\\\\Documents\\\\GitHub\\\\UNet_Glomerulus\\\\figure\\\\UHN_Slide02_28541_14797_image_44.png',\n 'C:\\\\Users\\\\akalloo\\\\Documents\\\\GitHub\\\\UNet_Glomerulus\\\\figure\\\\UHN_Slide02_28541_14797_mask_44.png',\n 'C:\\\\Users\\\\akalloo\\\\Documents\\\\GitHub\\\\UNet_Glomerulus\\\\figure\\\\UHN_Slide02_28541_14797_predicted_44.png',\n 'C:\\\\Users\\\\akalloo\\\\Documents\\\\GitHub\\\\UNet_Glomerulus\\\\figure\\\\UHN_Slide03_27899_19011_image_45.png',\n 'C:\\\\Users\\\\akalloo\\\\Documents\\\\GitHub\\\\UNet_Glomerulus\\\\figure\\\\UHN_Slide03_27899_19011_mask_45.png',\n 'C:\\\\Users\\\\akalloo\\\\Documents\\\\GitHub\\\\UNet_Glomerulus\\\\figure\\\\UHN_Slide03_27899_19011_predicted_45.png',\n 'C:\\\\Users\\\\akalloo\\\\Documents\\\\GitHub\\\\UNet_Glomerulus\\\\figure\\\\UHN_Slide03_28258_6327_image_46.png',\n 'C:\\\\Users\\\\akalloo\\\\Documents\\\\GitHub\\\\UNet_Glomerulus\\\\figure\\\\UHN_Slide03_28258_6327_mask_46.png',\n 'C:\\\\Users\\\\akalloo\\\\Documents\\\\GitHub\\\\UNet_Glomerulus\\\\figure\\\\UHN_Slide03_28258_6327_predicted_46.png',\n 'C:\\\\Users\\\\akalloo\\\\Documents\\\\GitHub\\\\UNet_Glomerulus\\\\figure\\\\UHN_Slide03_28995_20611_image_47.png',\n 'C:\\\\Users\\\\akalloo\\\\Documents\\\\GitHub\\\\UNet_Glomerulus\\\\figure\\\\UHN_Slide03_28995_20611_mask_47.png',\n 'C:\\\\Users\\\\akalloo\\\\Documents\\\\GitHub\\\\UNet_Glomerulus\\\\figure\\\\UHN_Slide03_28995_20611_predicted_47.png',\n 'C:\\\\Users\\\\akalloo\\\\Documents\\\\GitHub\\\\UNet_Glomerulus\\\\figure\\\\UHN_Slide03_38451_27369_image_48.png',\n 'C:\\\\Users\\\\akalloo\\\\Documents\\\\GitHub\\\\UNet_Glomerulus\\\\figure\\\\UHN_Slide03_38451_27369_mask_48.png',\n 'C:\\\\Users\\\\akalloo\\\\Documents\\\\GitHub\\\\UNet_Glomerulus\\\\figure\\\\UHN_Slide03_38451_27369_predicted_48.png',\n 'C:\\\\Users\\\\akalloo\\\\Documents\\\\GitHub\\\\UNet_Glomerulus\\\\figure\\\\UHN_Slide03_42095_22367_image_49.png',\n 'C:\\\\Users\\\\akalloo\\\\Documents\\\\GitHub\\\\UNet_Glomerulus\\\\figure\\\\UHN_Slide03_42095_22367_mask_49.png',\n 'C:\\\\Users\\\\akalloo\\\\Documents\\\\GitHub\\\\UNet_Glomerulus\\\\figure\\\\UHN_Slide03_42095_22367_predicted_49.png',\n 'C:\\\\Users\\\\akalloo\\\\Documents\\\\GitHub\\\\UNet_Glomerulus\\\\figure\\\\UHN_Slide03_44963_20287_image_50.png',\n 'C:\\\\Users\\\\akalloo\\\\Documents\\\\GitHub\\\\UNet_Glomerulus\\\\figure\\\\UHN_Slide03_44963_20287_mask_50.png',\n 'C:\\\\Users\\\\akalloo\\\\Documents\\\\GitHub\\\\UNet_Glomerulus\\\\figure\\\\UHN_Slide03_44963_20287_predicted_50.png',\n 'C:\\\\Users\\\\akalloo\\\\Documents\\\\GitHub\\\\UNet_Glomerulus\\\\figure\\\\UHN_Slide03_7271_11291_image_51.png',\n 'C:\\\\Users\\\\akalloo\\\\Documents\\\\GitHub\\\\UNet_Glomerulus\\\\figure\\\\UHN_Slide03_7271_11291_mask_51.png',\n 'C:\\\\Users\\\\akalloo\\\\Documents\\\\GitHub\\\\UNet_Glomerulus\\\\figure\\\\UHN_Slide03_7271_11291_predicted_51.png',\n 'C:\\\\Users\\\\akalloo\\\\Documents\\\\GitHub\\\\UNet_Glomerulus\\\\figure\\\\UHN_Slide04_11551_15052_image_52.png',\n 'C:\\\\Users\\\\akalloo\\\\Documents\\\\GitHub\\\\UNet_Glomerulus\\\\figure\\\\UHN_Slide04_11551_15052_mask_52.png',\n 'C:\\\\Users\\\\akalloo\\\\Documents\\\\GitHub\\\\UNet_Glomerulus\\\\figure\\\\UHN_Slide04_11551_15052_predicted_52.png',\n 'C:\\\\Users\\\\akalloo\\\\Documents\\\\GitHub\\\\UNet_Glomerulus\\\\figure\\\\UHN_Slide04_19123_17305_image_53.png',\n 'C:\\\\Users\\\\akalloo\\\\Documents\\\\GitHub\\\\UNet_Glomerulus\\\\figure\\\\UHN_Slide04_19123_17305_mask_53.png',\n 'C:\\\\Users\\\\akalloo\\\\Documents\\\\GitHub\\\\UNet_Glomerulus\\\\figure\\\\UHN_Slide04_19123_17305_predicted_53.png',\n 'C:\\\\Users\\\\akalloo\\\\Documents\\\\GitHub\\\\UNet_Glomerulus\\\\figure\\\\UHN_Slide04_28867_19303_image_54.png',\n 'C:\\\\Users\\\\akalloo\\\\Documents\\\\GitHub\\\\UNet_Glomerulus\\\\figure\\\\UHN_Slide04_28867_19303_mask_54.png',\n 'C:\\\\Users\\\\akalloo\\\\Documents\\\\GitHub\\\\UNet_Glomerulus\\\\figure\\\\UHN_Slide04_28867_19303_predicted_54.png',\n 'C:\\\\Users\\\\akalloo\\\\Documents\\\\GitHub\\\\UNet_Glomerulus\\\\figure\\\\UHN_Slide04_43591_20235_image_55.png',\n 'C:\\\\Users\\\\akalloo\\\\Documents\\\\GitHub\\\\UNet_Glomerulus\\\\figure\\\\UHN_Slide04_43591_20235_mask_55.png',\n 'C:\\\\Users\\\\akalloo\\\\Documents\\\\GitHub\\\\UNet_Glomerulus\\\\figure\\\\UHN_Slide04_43591_20235_predicted_55.png',\n 'C:\\\\Users\\\\akalloo\\\\Documents\\\\GitHub\\\\UNet_Glomerulus\\\\figure\\\\UHN_Slide04_45075_20527_image_56.png',\n 'C:\\\\Users\\\\akalloo\\\\Documents\\\\GitHub\\\\UNet_Glomerulus\\\\figure\\\\UHN_Slide04_45075_20527_mask_56.png',\n 'C:\\\\Users\\\\akalloo\\\\Documents\\\\GitHub\\\\UNet_Glomerulus\\\\figure\\\\UHN_Slide04_45075_20527_predicted_56.png',\n 'C:\\\\Users\\\\akalloo\\\\Documents\\\\GitHub\\\\UNet_Glomerulus\\\\figure\\\\UHN_Slide04_9421_14808_image_57.png',\n 'C:\\\\Users\\\\akalloo\\\\Documents\\\\GitHub\\\\UNet_Glomerulus\\\\figure\\\\UHN_Slide04_9421_14808_mask_57.png',\n 'C:\\\\Users\\\\akalloo\\\\Documents\\\\GitHub\\\\UNet_Glomerulus\\\\figure\\\\UHN_Slide04_9421_14808_predicted_57.png',\n 'C:\\\\Users\\\\akalloo\\\\Documents\\\\GitHub\\\\UNet_Glomerulus\\\\figure\\\\UHN_Slide05_10536_7162_image_58.png',\n 'C:\\\\Users\\\\akalloo\\\\Documents\\\\GitHub\\\\UNet_Glomerulus\\\\figure\\\\UHN_Slide05_10536_7162_mask_58.png',\n 'C:\\\\Users\\\\akalloo\\\\Documents\\\\GitHub\\\\UNet_Glomerulus\\\\figure\\\\UHN_Slide05_10536_7162_predicted_58.png',\n 'C:\\\\Users\\\\akalloo\\\\Documents\\\\GitHub\\\\UNet_Glomerulus\\\\figure\\\\UHN_Slide05_17871_12383_image_59.png',\n 'C:\\\\Users\\\\akalloo\\\\Documents\\\\GitHub\\\\UNet_Glomerulus\\\\figure\\\\UHN_Slide05_17871_12383_mask_59.png',\n 'C:\\\\Users\\\\akalloo\\\\Documents\\\\GitHub\\\\UNet_Glomerulus\\\\figure\\\\UHN_Slide05_17871_12383_predicted_59.png',\n 'C:\\\\Users\\\\akalloo\\\\Documents\\\\GitHub\\\\UNet_Glomerulus\\\\figure\\\\UHN_Slide05_24833_6716_image_60.png',\n 'C:\\\\Users\\\\akalloo\\\\Documents\\\\GitHub\\\\UNet_Glomerulus\\\\figure\\\\UHN_Slide05_24833_6716_mask_60.png',\n 'C:\\\\Users\\\\akalloo\\\\Documents\\\\GitHub\\\\UNet_Glomerulus\\\\figure\\\\UHN_Slide05_24833_6716_predicted_60.png',\n 'C:\\\\Users\\\\akalloo\\\\Documents\\\\GitHub\\\\UNet_Glomerulus\\\\figure\\\\UHN_Slide05_29711_11635_image_61.png',\n 'C:\\\\Users\\\\akalloo\\\\Documents\\\\GitHub\\\\UNet_Glomerulus\\\\figure\\\\UHN_Slide05_29711_11635_mask_61.png',\n 'C:\\\\Users\\\\akalloo\\\\Documents\\\\GitHub\\\\UNet_Glomerulus\\\\figure\\\\UHN_Slide05_29711_11635_predicted_61.png',\n 'C:\\\\Users\\\\akalloo\\\\Documents\\\\GitHub\\\\UNet_Glomerulus\\\\figure\\\\UHN_Slide05_43703_5633_image_62.png',\n 'C:\\\\Users\\\\akalloo\\\\Documents\\\\GitHub\\\\UNet_Glomerulus\\\\figure\\\\UHN_Slide05_43703_5633_mask_62.png',\n 'C:\\\\Users\\\\akalloo\\\\Documents\\\\GitHub\\\\UNet_Glomerulus\\\\figure\\\\UHN_Slide05_43703_5633_predicted_62.png',\n 'C:\\\\Users\\\\akalloo\\\\Documents\\\\GitHub\\\\UNet_Glomerulus\\\\figure\\\\UHN_Slide05_48007_14351_image_63.png',\n 'C:\\\\Users\\\\akalloo\\\\Documents\\\\GitHub\\\\UNet_Glomerulus\\\\figure\\\\UHN_Slide05_48007_14351_mask_63.png',\n 'C:\\\\Users\\\\akalloo\\\\Documents\\\\GitHub\\\\UNet_Glomerulus\\\\figure\\\\UHN_Slide05_48007_14351_predicted_63.png',\n 'C:\\\\Users\\\\akalloo\\\\Documents\\\\GitHub\\\\UNet_Glomerulus\\\\figure\\\\UHN_Slide05_48483_6759_image_64.png',\n 'C:\\\\Users\\\\akalloo\\\\Documents\\\\GitHub\\\\UNet_Glomerulus\\\\figure\\\\UHN_Slide05_48483_6759_mask_64.png',\n 'C:\\\\Users\\\\akalloo\\\\Documents\\\\GitHub\\\\UNet_Glomerulus\\\\figure\\\\UHN_Slide05_48483_6759_predicted_64.png',\n 'C:\\\\Users\\\\akalloo\\\\Documents\\\\GitHub\\\\UNet_Glomerulus\\\\figure\\\\UHN_Slide06_10394_4626_image_65.png',\n 'C:\\\\Users\\\\akalloo\\\\Documents\\\\GitHub\\\\UNet_Glomerulus\\\\figure\\\\UHN_Slide06_10394_4626_mask_65.png',\n 'C:\\\\Users\\\\akalloo\\\\Documents\\\\GitHub\\\\UNet_Glomerulus\\\\figure\\\\UHN_Slide06_10394_4626_predicted_65.png',\n 'C:\\\\Users\\\\akalloo\\\\Documents\\\\GitHub\\\\UNet_Glomerulus\\\\figure\\\\UHN_Slide06_10738_13643_image_66.png',\n 'C:\\\\Users\\\\akalloo\\\\Documents\\\\GitHub\\\\UNet_Glomerulus\\\\figure\\\\UHN_Slide06_10738_13643_mask_66.png',\n 'C:\\\\Users\\\\akalloo\\\\Documents\\\\GitHub\\\\UNet_Glomerulus\\\\figure\\\\UHN_Slide06_10738_13643_predicted_66.png',\n 'C:\\\\Users\\\\akalloo\\\\Documents\\\\GitHub\\\\UNet_Glomerulus\\\\figure\\\\UHN_Slide06_26384_7253_image_67.png',\n 'C:\\\\Users\\\\akalloo\\\\Documents\\\\GitHub\\\\UNet_Glomerulus\\\\figure\\\\UHN_Slide06_26384_7253_mask_67.png',\n 'C:\\\\Users\\\\akalloo\\\\Documents\\\\GitHub\\\\UNet_Glomerulus\\\\figure\\\\UHN_Slide06_26384_7253_predicted_67.png',\n 'C:\\\\Users\\\\akalloo\\\\Documents\\\\GitHub\\\\UNet_Glomerulus\\\\figure\\\\UHN_Slide06_27152_5469_image_68.png',\n 'C:\\\\Users\\\\akalloo\\\\Documents\\\\GitHub\\\\UNet_Glomerulus\\\\figure\\\\UHN_Slide06_27152_5469_mask_68.png',\n 'C:\\\\Users\\\\akalloo\\\\Documents\\\\GitHub\\\\UNet_Glomerulus\\\\figure\\\\UHN_Slide06_27152_5469_predicted_68.png',\n 'C:\\\\Users\\\\akalloo\\\\Documents\\\\GitHub\\\\UNet_Glomerulus\\\\figure\\\\UHN_Slide06_29010_14063_image_69.png',\n 'C:\\\\Users\\\\akalloo\\\\Documents\\\\GitHub\\\\UNet_Glomerulus\\\\figure\\\\UHN_Slide06_29010_14063_mask_69.png',\n 'C:\\\\Users\\\\akalloo\\\\Documents\\\\GitHub\\\\UNet_Glomerulus\\\\figure\\\\UHN_Slide06_29010_14063_predicted_69.png',\n 'C:\\\\Users\\\\akalloo\\\\Documents\\\\GitHub\\\\UNet_Glomerulus\\\\figure\\\\UHN_Slide06_32401_6061_image_70.png',\n 'C:\\\\Users\\\\akalloo\\\\Documents\\\\GitHub\\\\UNet_Glomerulus\\\\figure\\\\UHN_Slide06_32401_6061_mask_70.png',\n 'C:\\\\Users\\\\akalloo\\\\Documents\\\\GitHub\\\\UNet_Glomerulus\\\\figure\\\\UHN_Slide06_32401_6061_predicted_70.png',\n 'C:\\\\Users\\\\akalloo\\\\Documents\\\\GitHub\\\\UNet_Glomerulus\\\\figure\\\\UHN_Slide06_5962_15067_image_71.png',\n 'C:\\\\Users\\\\akalloo\\\\Documents\\\\GitHub\\\\UNet_Glomerulus\\\\figure\\\\UHN_Slide06_5962_15067_mask_71.png',\n 'C:\\\\Users\\\\akalloo\\\\Documents\\\\GitHub\\\\UNet_Glomerulus\\\\figure\\\\UHN_Slide06_5962_15067_predicted_71.png',\n 'C:\\\\Users\\\\akalloo\\\\Documents\\\\GitHub\\\\UNet_Glomerulus\\\\figure\\\\UHN_Slide06_7734_13351_image_72.png',\n 'C:\\\\Users\\\\akalloo\\\\Documents\\\\GitHub\\\\UNet_Glomerulus\\\\figure\\\\UHN_Slide06_7734_13351_mask_72.png',\n 'C:\\\\Users\\\\akalloo\\\\Documents\\\\GitHub\\\\UNet_Glomerulus\\\\figure\\\\UHN_Slide06_7734_13351_predicted_72.png',\n 'C:\\\\Users\\\\akalloo\\\\Documents\\\\GitHub\\\\UNet_Glomerulus\\\\figure\\\\UHN_Slide07_10974_12858_image_73.png',\n 'C:\\\\Users\\\\akalloo\\\\Documents\\\\GitHub\\\\UNet_Glomerulus\\\\figure\\\\UHN_Slide07_10974_12858_mask_73.png',\n 'C:\\\\Users\\\\akalloo\\\\Documents\\\\GitHub\\\\UNet_Glomerulus\\\\figure\\\\UHN_Slide07_10974_12858_predicted_73.png',\n 'C:\\\\Users\\\\akalloo\\\\Documents\\\\GitHub\\\\UNet_Glomerulus\\\\figure\\\\UHN_Slide07_11304_3219_image_74.png',\n 'C:\\\\Users\\\\akalloo\\\\Documents\\\\GitHub\\\\UNet_Glomerulus\\\\figure\\\\UHN_Slide07_11304_3219_mask_74.png',\n 'C:\\\\Users\\\\akalloo\\\\Documents\\\\GitHub\\\\UNet_Glomerulus\\\\figure\\\\UHN_Slide07_11304_3219_predicted_74.png',\n 'C:\\\\Users\\\\akalloo\\\\Documents\\\\GitHub\\\\UNet_Glomerulus\\\\figure\\\\UHN_Slide07_23688_14806_image_75.png',\n 'C:\\\\Users\\\\akalloo\\\\Documents\\\\GitHub\\\\UNet_Glomerulus\\\\figure\\\\UHN_Slide07_23688_14806_mask_75.png',\n 'C:\\\\Users\\\\akalloo\\\\Documents\\\\GitHub\\\\UNet_Glomerulus\\\\figure\\\\UHN_Slide07_23688_14806_predicted_75.png',\n 'C:\\\\Users\\\\akalloo\\\\Documents\\\\GitHub\\\\UNet_Glomerulus\\\\figure\\\\UHN_Slide07_24488_16654_image_76.png',\n 'C:\\\\Users\\\\akalloo\\\\Documents\\\\GitHub\\\\UNet_Glomerulus\\\\figure\\\\UHN_Slide07_24488_16654_mask_76.png',\n 'C:\\\\Users\\\\akalloo\\\\Documents\\\\GitHub\\\\UNet_Glomerulus\\\\figure\\\\UHN_Slide07_24488_16654_predicted_76.png',\n 'C:\\\\Users\\\\akalloo\\\\Documents\\\\GitHub\\\\UNet_Glomerulus\\\\figure\\\\UHN_Slide07_30308_16394_image_77.png',\n 'C:\\\\Users\\\\akalloo\\\\Documents\\\\GitHub\\\\UNet_Glomerulus\\\\figure\\\\UHN_Slide07_30308_16394_mask_77.png',\n 'C:\\\\Users\\\\akalloo\\\\Documents\\\\GitHub\\\\UNet_Glomerulus\\\\figure\\\\UHN_Slide07_30308_16394_predicted_77.png',\n 'C:\\\\Users\\\\akalloo\\\\Documents\\\\GitHub\\\\UNet_Glomerulus\\\\figure\\\\UHN_Slide07_31474_16758_image_78.png',\n 'C:\\\\Users\\\\akalloo\\\\Documents\\\\GitHub\\\\UNet_Glomerulus\\\\figure\\\\UHN_Slide07_31474_16758_mask_78.png',\n 'C:\\\\Users\\\\akalloo\\\\Documents\\\\GitHub\\\\UNet_Glomerulus\\\\figure\\\\UHN_Slide07_31474_16758_predicted_78.png',\n 'C:\\\\Users\\\\akalloo\\\\Documents\\\\GitHub\\\\UNet_Glomerulus\\\\figure\\\\UHN_Slide07_33422_19702_image_79.png',\n 'C:\\\\Users\\\\akalloo\\\\Documents\\\\GitHub\\\\UNet_Glomerulus\\\\figure\\\\UHN_Slide07_33422_19702_mask_79.png',\n 'C:\\\\Users\\\\akalloo\\\\Documents\\\\GitHub\\\\UNet_Glomerulus\\\\figure\\\\UHN_Slide07_33422_19702_predicted_79.png',\n 'C:\\\\Users\\\\akalloo\\\\Documents\\\\GitHub\\\\UNet_Glomerulus\\\\figure\\\\UHN_Slide07_33874_17578_image_80.png',\n 'C:\\\\Users\\\\akalloo\\\\Documents\\\\GitHub\\\\UNet_Glomerulus\\\\figure\\\\UHN_Slide07_33874_17578_mask_80.png',\n 'C:\\\\Users\\\\akalloo\\\\Documents\\\\GitHub\\\\UNet_Glomerulus\\\\figure\\\\UHN_Slide07_33874_17578_predicted_80.png',\n 'C:\\\\Users\\\\akalloo\\\\Documents\\\\GitHub\\\\UNet_Glomerulus\\\\figure\\\\UHN_Slide07_37130_17382_image_81.png',\n 'C:\\\\Users\\\\akalloo\\\\Documents\\\\GitHub\\\\UNet_Glomerulus\\\\figure\\\\UHN_Slide07_37130_17382_mask_81.png',\n 'C:\\\\Users\\\\akalloo\\\\Documents\\\\GitHub\\\\UNet_Glomerulus\\\\figure\\\\UHN_Slide07_37130_17382_predicted_81.png',\n 'C:\\\\Users\\\\akalloo\\\\Documents\\\\GitHub\\\\UNet_Glomerulus\\\\figure\\\\UHN_Slide07_38886_20461_image_82.png',\n 'C:\\\\Users\\\\akalloo\\\\Documents\\\\GitHub\\\\UNet_Glomerulus\\\\figure\\\\UHN_Slide07_38886_20461_mask_82.png',\n 'C:\\\\Users\\\\akalloo\\\\Documents\\\\GitHub\\\\UNet_Glomerulus\\\\figure\\\\UHN_Slide07_38886_20461_predicted_82.png',\n 'C:\\\\Users\\\\akalloo\\\\Documents\\\\GitHub\\\\UNet_Glomerulus\\\\figure\\\\UHN_Slide07_42718_22777_image_83.png',\n 'C:\\\\Users\\\\akalloo\\\\Documents\\\\GitHub\\\\UNet_Glomerulus\\\\figure\\\\UHN_Slide07_42718_22777_mask_83.png',\n 'C:\\\\Users\\\\akalloo\\\\Documents\\\\GitHub\\\\UNet_Glomerulus\\\\figure\\\\UHN_Slide07_42718_22777_predicted_83.png',\n 'C:\\\\Users\\\\akalloo\\\\Documents\\\\GitHub\\\\UNet_Glomerulus\\\\figure\\\\UHN_Slide08_24424_11486_image_84.png',\n 'C:\\\\Users\\\\akalloo\\\\Documents\\\\GitHub\\\\UNet_Glomerulus\\\\figure\\\\UHN_Slide08_24424_11486_mask_84.png',\n 'C:\\\\Users\\\\akalloo\\\\Documents\\\\GitHub\\\\UNet_Glomerulus\\\\figure\\\\UHN_Slide08_24424_11486_predicted_84.png',\n 'C:\\\\Users\\\\akalloo\\\\Documents\\\\GitHub\\\\UNet_Glomerulus\\\\figure\\\\UHN_Slide08_30516_14246_image_85.png',\n 'C:\\\\Users\\\\akalloo\\\\Documents\\\\GitHub\\\\UNet_Glomerulus\\\\figure\\\\UHN_Slide08_30516_14246_mask_85.png',\n 'C:\\\\Users\\\\akalloo\\\\Documents\\\\GitHub\\\\UNet_Glomerulus\\\\figure\\\\UHN_Slide08_30516_14246_predicted_85.png',\n 'C:\\\\Users\\\\akalloo\\\\Documents\\\\GitHub\\\\UNet_Glomerulus\\\\figure\\\\UHN_Slide08_38898_8360_image_86.png',\n 'C:\\\\Users\\\\akalloo\\\\Documents\\\\GitHub\\\\UNet_Glomerulus\\\\figure\\\\UHN_Slide08_38898_8360_mask_86.png',\n 'C:\\\\Users\\\\akalloo\\\\Documents\\\\GitHub\\\\UNet_Glomerulus\\\\figure\\\\UHN_Slide08_38898_8360_predicted_86.png',\n 'C:\\\\Users\\\\akalloo\\\\Documents\\\\GitHub\\\\UNet_Glomerulus\\\\figure\\\\UHN_Slide08_48502_8692_image_87.png',\n 'C:\\\\Users\\\\akalloo\\\\Documents\\\\GitHub\\\\UNet_Glomerulus\\\\figure\\\\UHN_Slide08_48502_8692_mask_87.png',\n 'C:\\\\Users\\\\akalloo\\\\Documents\\\\GitHub\\\\UNet_Glomerulus\\\\figure\\\\UHN_Slide08_48502_8692_predicted_87.png',\n 'C:\\\\Users\\\\akalloo\\\\Documents\\\\GitHub\\\\UNet_Glomerulus\\\\figure\\\\UHN_Slide08_7441_19645_image_88.png',\n 'C:\\\\Users\\\\akalloo\\\\Documents\\\\GitHub\\\\UNet_Glomerulus\\\\figure\\\\UHN_Slide08_7441_19645_mask_88.png',\n 'C:\\\\Users\\\\akalloo\\\\Documents\\\\GitHub\\\\UNet_Glomerulus\\\\figure\\\\UHN_Slide08_7441_19645_predicted_88.png',\n 'C:\\\\Users\\\\akalloo\\\\Documents\\\\GitHub\\\\UNet_Glomerulus\\\\figure\\\\UHN_Slide08_8445_21621_image_89.png',\n 'C:\\\\Users\\\\akalloo\\\\Documents\\\\GitHub\\\\UNet_Glomerulus\\\\figure\\\\UHN_Slide08_8445_21621_mask_89.png',\n 'C:\\\\Users\\\\akalloo\\\\Documents\\\\GitHub\\\\UNet_Glomerulus\\\\figure\\\\UHN_Slide08_8445_21621_predicted_89.png',\n 'C:\\\\Users\\\\akalloo\\\\Documents\\\\GitHub\\\\UNet_Glomerulus\\\\figure\\\\UHN_Slide09_17895_10000_image_90.png',\n 'C:\\\\Users\\\\akalloo\\\\Documents\\\\GitHub\\\\UNet_Glomerulus\\\\figure\\\\UHN_Slide09_17895_10000_mask_90.png',\n 'C:\\\\Users\\\\akalloo\\\\Documents\\\\GitHub\\\\UNet_Glomerulus\\\\figure\\\\UHN_Slide09_17895_10000_predicted_90.png',\n 'C:\\\\Users\\\\akalloo\\\\Documents\\\\GitHub\\\\UNet_Glomerulus\\\\figure\\\\UHN_Slide09_22173_7174_image_91.png',\n 'C:\\\\Users\\\\akalloo\\\\Documents\\\\GitHub\\\\UNet_Glomerulus\\\\figure\\\\UHN_Slide09_22173_7174_mask_91.png',\n 'C:\\\\Users\\\\akalloo\\\\Documents\\\\GitHub\\\\UNet_Glomerulus\\\\figure\\\\UHN_Slide09_22173_7174_predicted_91.png',\n 'C:\\\\Users\\\\akalloo\\\\Documents\\\\GitHub\\\\UNet_Glomerulus\\\\figure\\\\UHN_Slide09_6247_11158_image_92.png',\n 'C:\\\\Users\\\\akalloo\\\\Documents\\\\GitHub\\\\UNet_Glomerulus\\\\figure\\\\UHN_Slide09_6247_11158_mask_92.png',\n 'C:\\\\Users\\\\akalloo\\\\Documents\\\\GitHub\\\\UNet_Glomerulus\\\\figure\\\\UHN_Slide09_6247_11158_predicted_92.png',\n 'C:\\\\Users\\\\akalloo\\\\Documents\\\\GitHub\\\\UNet_Glomerulus\\\\figure\\\\UHN_Slide09_7887_10382_image_93.png',\n 'C:\\\\Users\\\\akalloo\\\\Documents\\\\GitHub\\\\UNet_Glomerulus\\\\figure\\\\UHN_Slide09_7887_10382_mask_93.png',\n 'C:\\\\Users\\\\akalloo\\\\Documents\\\\GitHub\\\\UNet_Glomerulus\\\\figure\\\\UHN_Slide09_7887_10382_predicted_93.png',\n 'C:\\\\Users\\\\akalloo\\\\Documents\\\\GitHub\\\\UNet_Glomerulus\\\\figure\\\\UHN_Slide10_10369_14024_image_94.png',\n 'C:\\\\Users\\\\akalloo\\\\Documents\\\\GitHub\\\\UNet_Glomerulus\\\\figure\\\\UHN_Slide10_10369_14024_mask_94.png',\n 'C:\\\\Users\\\\akalloo\\\\Documents\\\\GitHub\\\\UNet_Glomerulus\\\\figure\\\\UHN_Slide10_10369_14024_predicted_94.png',\n 'C:\\\\Users\\\\akalloo\\\\Documents\\\\GitHub\\\\UNet_Glomerulus\\\\figure\\\\UHN_Slide10_21639_10665_image_95.png',\n 'C:\\\\Users\\\\akalloo\\\\Documents\\\\GitHub\\\\UNet_Glomerulus\\\\figure\\\\UHN_Slide10_21639_10665_mask_95.png',\n 'C:\\\\Users\\\\akalloo\\\\Documents\\\\GitHub\\\\UNet_Glomerulus\\\\figure\\\\UHN_Slide10_21639_10665_predicted_95.png',\n 'C:\\\\Users\\\\akalloo\\\\Documents\\\\GitHub\\\\UNet_Glomerulus\\\\figure\\\\UHN_Slide10_29727_15239_image_96.png',\n 'C:\\\\Users\\\\akalloo\\\\Documents\\\\GitHub\\\\UNet_Glomerulus\\\\figure\\\\UHN_Slide10_29727_15239_mask_96.png',\n 'C:\\\\Users\\\\akalloo\\\\Documents\\\\GitHub\\\\UNet_Glomerulus\\\\figure\\\\UHN_Slide10_29727_15239_predicted_96.png',\n 'C:\\\\Users\\\\akalloo\\\\Documents\\\\GitHub\\\\UNet_Glomerulus\\\\figure\\\\UHN_Slide10_31335_17175_image_97.png',\n 'C:\\\\Users\\\\akalloo\\\\Documents\\\\GitHub\\\\UNet_Glomerulus\\\\figure\\\\UHN_Slide10_31335_17175_mask_97.png',\n 'C:\\\\Users\\\\akalloo\\\\Documents\\\\GitHub\\\\UNet_Glomerulus\\\\figure\\\\UHN_Slide10_31335_17175_predicted_97.png',\n 'C:\\\\Users\\\\akalloo\\\\Documents\\\\GitHub\\\\UNet_Glomerulus\\\\figure\\\\UHN_Slide11_16074_10368_image_98.png',\n 'C:\\\\Users\\\\akalloo\\\\Documents\\\\GitHub\\\\UNet_Glomerulus\\\\figure\\\\UHN_Slide11_16074_10368_mask_98.png',\n 'C:\\\\Users\\\\akalloo\\\\Documents\\\\GitHub\\\\UNet_Glomerulus\\\\figure\\\\UHN_Slide11_16074_10368_predicted_98.png',\n 'C:\\\\Users\\\\akalloo\\\\Documents\\\\GitHub\\\\UNet_Glomerulus\\\\figure\\\\UHN_Slide11_24546_11985_image_99.png',\n 'C:\\\\Users\\\\akalloo\\\\Documents\\\\GitHub\\\\UNet_Glomerulus\\\\figure\\\\UHN_Slide11_24546_11985_mask_99.png',\n 'C:\\\\Users\\\\akalloo\\\\Documents\\\\GitHub\\\\UNet_Glomerulus\\\\figure\\\\UHN_Slide11_24546_11985_predicted_99.png',\n 'C:\\\\Users\\\\akalloo\\\\Documents\\\\GitHub\\\\UNet_Glomerulus\\\\figure\\\\UHN_Slide12_13401_6786_image_100.png',\n 'C:\\\\Users\\\\akalloo\\\\Documents\\\\GitHub\\\\UNet_Glomerulus\\\\figure\\\\UHN_Slide12_13401_6786_mask_100.png',\n 'C:\\\\Users\\\\akalloo\\\\Documents\\\\GitHub\\\\UNet_Glomerulus\\\\figure\\\\UHN_Slide12_13401_6786_predicted_100.png',\n 'C:\\\\Users\\\\akalloo\\\\Documents\\\\GitHub\\\\UNet_Glomerulus\\\\figure\\\\UHN_Slide12_15481_10070_image_101.png',\n 'C:\\\\Users\\\\akalloo\\\\Documents\\\\GitHub\\\\UNet_Glomerulus\\\\figure\\\\UHN_Slide12_15481_10070_mask_101.png',\n 'C:\\\\Users\\\\akalloo\\\\Documents\\\\GitHub\\\\UNet_Glomerulus\\\\figure\\\\UHN_Slide12_15481_10070_predicted_101.png',\n 'C:\\\\Users\\\\akalloo\\\\Documents\\\\GitHub\\\\UNet_Glomerulus\\\\figure\\\\UHN_Slide12_17493_11246_image_102.png',\n 'C:\\\\Users\\\\akalloo\\\\Documents\\\\GitHub\\\\UNet_Glomerulus\\\\figure\\\\UHN_Slide12_17493_11246_mask_102.png',\n 'C:\\\\Users\\\\akalloo\\\\Documents\\\\GitHub\\\\UNet_Glomerulus\\\\figure\\\\UHN_Slide12_17493_11246_predicted_102.png',\n 'C:\\\\Users\\\\akalloo\\\\Documents\\\\GitHub\\\\UNet_Glomerulus\\\\figure\\\\UHN_Slide13_28604_11848_image_103.png',\n 'C:\\\\Users\\\\akalloo\\\\Documents\\\\GitHub\\\\UNet_Glomerulus\\\\figure\\\\UHN_Slide13_28604_11848_mask_103.png',\n 'C:\\\\Users\\\\akalloo\\\\Documents\\\\GitHub\\\\UNet_Glomerulus\\\\figure\\\\UHN_Slide13_28604_11848_predicted_103.png',\n 'C:\\\\Users\\\\akalloo\\\\Documents\\\\GitHub\\\\UNet_Glomerulus\\\\figure\\\\UHN_Slide13_29920_11976_image_104.png',\n 'C:\\\\Users\\\\akalloo\\\\Documents\\\\GitHub\\\\UNet_Glomerulus\\\\figure\\\\UHN_Slide13_29920_11976_mask_104.png',\n 'C:\\\\Users\\\\akalloo\\\\Documents\\\\GitHub\\\\UNet_Glomerulus\\\\figure\\\\UHN_Slide13_29920_11976_predicted_104.png',\n 'C:\\\\Users\\\\akalloo\\\\Documents\\\\GitHub\\\\UNet_Glomerulus\\\\figure\\\\UHN_Slide13_30096_13448_image_105.png',\n 'C:\\\\Users\\\\akalloo\\\\Documents\\\\GitHub\\\\UNet_Glomerulus\\\\figure\\\\UHN_Slide13_30096_13448_mask_105.png',\n 'C:\\\\Users\\\\akalloo\\\\Documents\\\\GitHub\\\\UNet_Glomerulus\\\\figure\\\\UHN_Slide13_30096_13448_predicted_105.png',\n 'C:\\\\Users\\\\akalloo\\\\Documents\\\\GitHub\\\\UNet_Glomerulus\\\\figure\\\\UHN_Slide13_31152_13612_image_106.png',\n 'C:\\\\Users\\\\akalloo\\\\Documents\\\\GitHub\\\\UNet_Glomerulus\\\\figure\\\\UHN_Slide13_31152_13612_mask_106.png',\n 'C:\\\\Users\\\\akalloo\\\\Documents\\\\GitHub\\\\UNet_Glomerulus\\\\figure\\\\UHN_Slide13_31152_13612_predicted_106.png',\n 'C:\\\\Users\\\\akalloo\\\\Documents\\\\GitHub\\\\UNet_Glomerulus\\\\figure\\\\UHN_Slide13_35792_13420_image_107.png',\n 'C:\\\\Users\\\\akalloo\\\\Documents\\\\GitHub\\\\UNet_Glomerulus\\\\figure\\\\UHN_Slide13_35792_13420_mask_107.png',\n 'C:\\\\Users\\\\akalloo\\\\Documents\\\\GitHub\\\\UNet_Glomerulus\\\\figure\\\\UHN_Slide13_35792_13420_predicted_107.png',\n 'C:\\\\Users\\\\akalloo\\\\Documents\\\\GitHub\\\\UNet_Glomerulus\\\\figure\\\\UHN_Slide13_37104_10732_image_108.png',\n 'C:\\\\Users\\\\akalloo\\\\Documents\\\\GitHub\\\\UNet_Glomerulus\\\\figure\\\\UHN_Slide13_37104_10732_mask_108.png',\n 'C:\\\\Users\\\\akalloo\\\\Documents\\\\GitHub\\\\UNet_Glomerulus\\\\figure\\\\UHN_Slide13_37104_10732_predicted_108.png',\n 'C:\\\\Users\\\\akalloo\\\\Documents\\\\GitHub\\\\UNet_Glomerulus\\\\figure\\\\UHN_Slide13_43160_7532_image_109.png',\n 'C:\\\\Users\\\\akalloo\\\\Documents\\\\GitHub\\\\UNet_Glomerulus\\\\figure\\\\UHN_Slide13_43160_7532_mask_109.png',\n 'C:\\\\Users\\\\akalloo\\\\Documents\\\\GitHub\\\\UNet_Glomerulus\\\\figure\\\\UHN_Slide13_43160_7532_predicted_109.png',\n 'C:\\\\Users\\\\akalloo\\\\Documents\\\\GitHub\\\\UNet_Glomerulus\\\\figure\\\\UHN_Slide13_43406_16124_image_110.png',\n 'C:\\\\Users\\\\akalloo\\\\Documents\\\\GitHub\\\\UNet_Glomerulus\\\\figure\\\\UHN_Slide13_43406_16124_mask_110.png',\n 'C:\\\\Users\\\\akalloo\\\\Documents\\\\GitHub\\\\UNet_Glomerulus\\\\figure\\\\UHN_Slide13_43406_16124_predicted_110.png',\n 'C:\\\\Users\\\\akalloo\\\\Documents\\\\GitHub\\\\UNet_Glomerulus\\\\figure\\\\UHN_Slide13_49182_9000_image_111.png',\n 'C:\\\\Users\\\\akalloo\\\\Documents\\\\GitHub\\\\UNet_Glomerulus\\\\figure\\\\UHN_Slide13_49182_9000_mask_111.png',\n 'C:\\\\Users\\\\akalloo\\\\Documents\\\\GitHub\\\\UNet_Glomerulus\\\\figure\\\\UHN_Slide13_49182_9000_predicted_111.png',\n 'C:\\\\Users\\\\akalloo\\\\Documents\\\\GitHub\\\\UNet_Glomerulus\\\\figure\\\\UHN_Slide13_51678_9448_image_112.png',\n 'C:\\\\Users\\\\akalloo\\\\Documents\\\\GitHub\\\\UNet_Glomerulus\\\\figure\\\\UHN_Slide13_51678_9448_mask_112.png',\n 'C:\\\\Users\\\\akalloo\\\\Documents\\\\GitHub\\\\UNet_Glomerulus\\\\figure\\\\UHN_Slide13_51678_9448_predicted_112.png',\n 'C:\\\\Users\\\\akalloo\\\\Documents\\\\GitHub\\\\UNet_Glomerulus\\\\figure\\\\UHN_Slide13_52186_4792_image_113.png',\n 'C:\\\\Users\\\\akalloo\\\\Documents\\\\GitHub\\\\UNet_Glomerulus\\\\figure\\\\UHN_Slide13_52186_4792_mask_113.png',\n 'C:\\\\Users\\\\akalloo\\\\Documents\\\\GitHub\\\\UNet_Glomerulus\\\\figure\\\\UHN_Slide13_52186_4792_predicted_113.png',\n 'C:\\\\Users\\\\akalloo\\\\Documents\\\\GitHub\\\\UNet_Glomerulus\\\\figure\\\\UHN_Slide14_21417_10757_image_114.png',\n 'C:\\\\Users\\\\akalloo\\\\Documents\\\\GitHub\\\\UNet_Glomerulus\\\\figure\\\\UHN_Slide14_21417_10757_mask_114.png',\n 'C:\\\\Users\\\\akalloo\\\\Documents\\\\GitHub\\\\UNet_Glomerulus\\\\figure\\\\UHN_Slide14_21417_10757_predicted_114.png',\n 'C:\\\\Users\\\\akalloo\\\\Documents\\\\GitHub\\\\UNet_Glomerulus\\\\figure\\\\UHN_Slide14_22031_6632_image_115.png',\n 'C:\\\\Users\\\\akalloo\\\\Documents\\\\GitHub\\\\UNet_Glomerulus\\\\figure\\\\UHN_Slide14_22031_6632_mask_115.png',\n 'C:\\\\Users\\\\akalloo\\\\Documents\\\\GitHub\\\\UNet_Glomerulus\\\\figure\\\\UHN_Slide14_22031_6632_predicted_115.png',\n 'C:\\\\Users\\\\akalloo\\\\Documents\\\\GitHub\\\\UNet_Glomerulus\\\\figure\\\\UHN_Slide14_22181_18253_image_116.png',\n 'C:\\\\Users\\\\akalloo\\\\Documents\\\\GitHub\\\\UNet_Glomerulus\\\\figure\\\\UHN_Slide14_22181_18253_mask_116.png',\n 'C:\\\\Users\\\\akalloo\\\\Documents\\\\GitHub\\\\UNet_Glomerulus\\\\figure\\\\UHN_Slide14_22181_18253_predicted_116.png',\n 'C:\\\\Users\\\\akalloo\\\\Documents\\\\GitHub\\\\UNet_Glomerulus\\\\figure\\\\UHN_Slide14_26653_13009_image_117.png',\n 'C:\\\\Users\\\\akalloo\\\\Documents\\\\GitHub\\\\UNet_Glomerulus\\\\figure\\\\UHN_Slide14_26653_13009_mask_117.png',\n 'C:\\\\Users\\\\akalloo\\\\Documents\\\\GitHub\\\\UNet_Glomerulus\\\\figure\\\\UHN_Slide14_26653_13009_predicted_117.png',\n 'C:\\\\Users\\\\akalloo\\\\Documents\\\\GitHub\\\\UNet_Glomerulus\\\\figure\\\\UHN_Slide14_28245_16683_image_118.png',\n 'C:\\\\Users\\\\akalloo\\\\Documents\\\\GitHub\\\\UNet_Glomerulus\\\\figure\\\\UHN_Slide14_28245_16683_mask_118.png',\n 'C:\\\\Users\\\\akalloo\\\\Documents\\\\GitHub\\\\UNet_Glomerulus\\\\figure\\\\UHN_Slide14_28245_16683_predicted_118.png',\n 'C:\\\\Users\\\\akalloo\\\\Documents\\\\GitHub\\\\UNet_Glomerulus\\\\figure\\\\UHN_Slide15_37181_15474_image_119.png',\n 'C:\\\\Users\\\\akalloo\\\\Documents\\\\GitHub\\\\UNet_Glomerulus\\\\figure\\\\UHN_Slide15_37181_15474_mask_119.png',\n 'C:\\\\Users\\\\akalloo\\\\Documents\\\\GitHub\\\\UNet_Glomerulus\\\\figure\\\\UHN_Slide15_37181_15474_predicted_119.png',\n 'C:\\\\Users\\\\akalloo\\\\Documents\\\\GitHub\\\\UNet_Glomerulus\\\\figure\\\\UHN_Slide15_47807_10538_image_120.png',\n 'C:\\\\Users\\\\akalloo\\\\Documents\\\\GitHub\\\\UNet_Glomerulus\\\\figure\\\\UHN_Slide15_47807_10538_mask_120.png',\n 'C:\\\\Users\\\\akalloo\\\\Documents\\\\GitHub\\\\UNet_Glomerulus\\\\figure\\\\UHN_Slide15_47807_10538_predicted_120.png',\n 'C:\\\\Users\\\\akalloo\\\\Documents\\\\GitHub\\\\UNet_Glomerulus\\\\figure\\\\UHN_Slide16_10767_13284_image_121.png',\n 'C:\\\\Users\\\\akalloo\\\\Documents\\\\GitHub\\\\UNet_Glomerulus\\\\figure\\\\UHN_Slide16_10767_13284_mask_121.png',\n 'C:\\\\Users\\\\akalloo\\\\Documents\\\\GitHub\\\\UNet_Glomerulus\\\\figure\\\\UHN_Slide16_10767_13284_predicted_121.png',\n 'C:\\\\Users\\\\akalloo\\\\Documents\\\\GitHub\\\\UNet_Glomerulus\\\\figure\\\\UHN_Slide16_14595_15816_image_122.png',\n 'C:\\\\Users\\\\akalloo\\\\Documents\\\\GitHub\\\\UNet_Glomerulus\\\\figure\\\\UHN_Slide16_14595_15816_mask_122.png',\n 'C:\\\\Users\\\\akalloo\\\\Documents\\\\GitHub\\\\UNet_Glomerulus\\\\figure\\\\UHN_Slide16_14595_15816_predicted_122.png',\n 'C:\\\\Users\\\\akalloo\\\\Documents\\\\GitHub\\\\UNet_Glomerulus\\\\figure\\\\UHN_Slide16_22795_16828_image_123.png',\n 'C:\\\\Users\\\\akalloo\\\\Documents\\\\GitHub\\\\UNet_Glomerulus\\\\figure\\\\UHN_Slide16_22795_16828_mask_123.png',\n 'C:\\\\Users\\\\akalloo\\\\Documents\\\\GitHub\\\\UNet_Glomerulus\\\\figure\\\\UHN_Slide16_22795_16828_predicted_123.png',\n 'C:\\\\Users\\\\akalloo\\\\Documents\\\\GitHub\\\\UNet_Glomerulus\\\\figure\\\\UHN_Slide16_29835_19732_image_124.png',\n 'C:\\\\Users\\\\akalloo\\\\Documents\\\\GitHub\\\\UNet_Glomerulus\\\\figure\\\\UHN_Slide16_29835_19732_mask_124.png',\n 'C:\\\\Users\\\\akalloo\\\\Documents\\\\GitHub\\\\UNet_Glomerulus\\\\figure\\\\UHN_Slide16_29835_19732_predicted_124.png',\n 'C:\\\\Users\\\\akalloo\\\\Documents\\\\GitHub\\\\UNet_Glomerulus\\\\figure\\\\UHN_Slide16_32287_17932_image_125.png',\n 'C:\\\\Users\\\\akalloo\\\\Documents\\\\GitHub\\\\UNet_Glomerulus\\\\figure\\\\UHN_Slide16_32287_17932_mask_125.png',\n 'C:\\\\Users\\\\akalloo\\\\Documents\\\\GitHub\\\\UNet_Glomerulus\\\\figure\\\\UHN_Slide16_32287_17932_predicted_125.png',\n 'C:\\\\Users\\\\akalloo\\\\Documents\\\\GitHub\\\\UNet_Glomerulus\\\\figure\\\\UHN_Slide17_13001_12164_image_126.png',\n 'C:\\\\Users\\\\akalloo\\\\Documents\\\\GitHub\\\\UNet_Glomerulus\\\\figure\\\\UHN_Slide17_13001_12164_mask_126.png',\n 'C:\\\\Users\\\\akalloo\\\\Documents\\\\GitHub\\\\UNet_Glomerulus\\\\figure\\\\UHN_Slide17_13001_12164_predicted_126.png',\n 'C:\\\\Users\\\\akalloo\\\\Documents\\\\GitHub\\\\UNet_Glomerulus\\\\figure\\\\UHN_Slide17_5471_23039_image_127.png',\n 'C:\\\\Users\\\\akalloo\\\\Documents\\\\GitHub\\\\UNet_Glomerulus\\\\figure\\\\UHN_Slide17_5471_23039_mask_127.png',\n 'C:\\\\Users\\\\akalloo\\\\Documents\\\\GitHub\\\\UNet_Glomerulus\\\\figure\\\\UHN_Slide17_5471_23039_predicted_127.png',\n 'C:\\\\Users\\\\akalloo\\\\Documents\\\\GitHub\\\\UNet_Glomerulus\\\\figure\\\\UHN_Slide17_5832_24904_image_128.png',\n 'C:\\\\Users\\\\akalloo\\\\Documents\\\\GitHub\\\\UNet_Glomerulus\\\\figure\\\\UHN_Slide17_5832_24904_mask_128.png',\n 'C:\\\\Users\\\\akalloo\\\\Documents\\\\GitHub\\\\UNet_Glomerulus\\\\figure\\\\UHN_Slide17_5832_24904_predicted_128.png',\n 'C:\\\\Users\\\\akalloo\\\\Documents\\\\GitHub\\\\UNet_Glomerulus\\\\figure\\\\UHN_Slide17_7074_11509_image_129.png',\n 'C:\\\\Users\\\\akalloo\\\\Documents\\\\GitHub\\\\UNet_Glomerulus\\\\figure\\\\UHN_Slide17_7074_11509_mask_129.png',\n 'C:\\\\Users\\\\akalloo\\\\Documents\\\\GitHub\\\\UNet_Glomerulus\\\\figure\\\\UHN_Slide17_7074_11509_predicted_129.png',\n 'C:\\\\Users\\\\akalloo\\\\Documents\\\\GitHub\\\\UNet_Glomerulus\\\\figure\\\\UHN_Slide18_14640_17071_image_130.png',\n 'C:\\\\Users\\\\akalloo\\\\Documents\\\\GitHub\\\\UNet_Glomerulus\\\\figure\\\\UHN_Slide18_14640_17071_mask_130.png',\n 'C:\\\\Users\\\\akalloo\\\\Documents\\\\GitHub\\\\UNet_Glomerulus\\\\figure\\\\UHN_Slide18_14640_17071_predicted_130.png',\n 'C:\\\\Users\\\\akalloo\\\\Documents\\\\GitHub\\\\UNet_Glomerulus\\\\figure\\\\UHN_Slide18_16349_26193_image_131.png',\n 'C:\\\\Users\\\\akalloo\\\\Documents\\\\GitHub\\\\UNet_Glomerulus\\\\figure\\\\UHN_Slide18_16349_26193_mask_131.png',\n 'C:\\\\Users\\\\akalloo\\\\Documents\\\\GitHub\\\\UNet_Glomerulus\\\\figure\\\\UHN_Slide18_16349_26193_predicted_131.png',\n 'C:\\\\Users\\\\akalloo\\\\Documents\\\\GitHub\\\\UNet_Glomerulus\\\\figure\\\\UHN_Slide18_17322_14886_image_132.png',\n 'C:\\\\Users\\\\akalloo\\\\Documents\\\\GitHub\\\\UNet_Glomerulus\\\\figure\\\\UHN_Slide18_17322_14886_mask_132.png',\n 'C:\\\\Users\\\\akalloo\\\\Documents\\\\GitHub\\\\UNet_Glomerulus\\\\figure\\\\UHN_Slide18_17322_14886_predicted_132.png',\n 'C:\\\\Users\\\\akalloo\\\\Documents\\\\GitHub\\\\UNet_Glomerulus\\\\figure\\\\UHN_Slide18_22698_12634_image_133.png',\n 'C:\\\\Users\\\\akalloo\\\\Documents\\\\GitHub\\\\UNet_Glomerulus\\\\figure\\\\UHN_Slide18_22698_12634_mask_133.png',\n 'C:\\\\Users\\\\akalloo\\\\Documents\\\\GitHub\\\\UNet_Glomerulus\\\\figure\\\\UHN_Slide18_22698_12634_predicted_133.png',\n 'C:\\\\Users\\\\akalloo\\\\Documents\\\\GitHub\\\\UNet_Glomerulus\\\\figure\\\\UHN_Slide19_2864_24551_image_134.png',\n 'C:\\\\Users\\\\akalloo\\\\Documents\\\\GitHub\\\\UNet_Glomerulus\\\\figure\\\\UHN_Slide19_2864_24551_mask_134.png',\n 'C:\\\\Users\\\\akalloo\\\\Documents\\\\GitHub\\\\UNet_Glomerulus\\\\figure\\\\UHN_Slide19_2864_24551_predicted_134.png',\n 'C:\\\\Users\\\\akalloo\\\\Documents\\\\GitHub\\\\UNet_Glomerulus\\\\figure\\\\UHN_Slide19_5152_35351_image_135.png',\n 'C:\\\\Users\\\\akalloo\\\\Documents\\\\GitHub\\\\UNet_Glomerulus\\\\figure\\\\UHN_Slide19_5152_35351_mask_135.png',\n 'C:\\\\Users\\\\akalloo\\\\Documents\\\\GitHub\\\\UNet_Glomerulus\\\\figure\\\\UHN_Slide19_5152_35351_predicted_135.png',\n 'C:\\\\Users\\\\akalloo\\\\Documents\\\\GitHub\\\\UNet_Glomerulus\\\\figure\\\\UHN_Slide19_5308_36335_image_136.png',\n 'C:\\\\Users\\\\akalloo\\\\Documents\\\\GitHub\\\\UNet_Glomerulus\\\\figure\\\\UHN_Slide19_5308_36335_mask_136.png',\n 'C:\\\\Users\\\\akalloo\\\\Documents\\\\GitHub\\\\UNet_Glomerulus\\\\figure\\\\UHN_Slide19_5308_36335_predicted_136.png',\n 'C:\\\\Users\\\\akalloo\\\\Documents\\\\GitHub\\\\UNet_Glomerulus\\\\figure\\\\UHN_Slide20_6364_23086_image_137.png',\n 'C:\\\\Users\\\\akalloo\\\\Documents\\\\GitHub\\\\UNet_Glomerulus\\\\figure\\\\UHN_Slide20_6364_23086_mask_137.png',\n 'C:\\\\Users\\\\akalloo\\\\Documents\\\\GitHub\\\\UNet_Glomerulus\\\\figure\\\\UHN_Slide20_6364_23086_predicted_137.png',\n 'C:\\\\Users\\\\akalloo\\\\Documents\\\\GitHub\\\\UNet_Glomerulus\\\\figure\\\\UHN_Slide20_6920_26046_image_138.png',\n 'C:\\\\Users\\\\akalloo\\\\Documents\\\\GitHub\\\\UNet_Glomerulus\\\\figure\\\\UHN_Slide20_6920_26046_mask_138.png',\n 'C:\\\\Users\\\\akalloo\\\\Documents\\\\GitHub\\\\UNet_Glomerulus\\\\figure\\\\UHN_Slide20_6920_26046_predicted_138.png',\n 'C:\\\\Users\\\\akalloo\\\\Documents\\\\GitHub\\\\UNet_Glomerulus\\\\figure\\\\UHN_Slide20_7780_20854_image_139.png',\n 'C:\\\\Users\\\\akalloo\\\\Documents\\\\GitHub\\\\UNet_Glomerulus\\\\figure\\\\UHN_Slide20_7780_20854_mask_139.png',\n 'C:\\\\Users\\\\akalloo\\\\Documents\\\\GitHub\\\\UNet_Glomerulus\\\\figure\\\\UHN_Slide20_7780_20854_predicted_139.png',\n 'C:\\\\Users\\\\akalloo\\\\Documents\\\\GitHub\\\\UNet_Glomerulus\\\\figure\\\\UHN_Slide20_9580_18526_image_140.png',\n 'C:\\\\Users\\\\akalloo\\\\Documents\\\\GitHub\\\\UNet_Glomerulus\\\\figure\\\\UHN_Slide20_9580_18526_mask_140.png',\n 'C:\\\\Users\\\\akalloo\\\\Documents\\\\GitHub\\\\UNet_Glomerulus\\\\figure\\\\UHN_Slide20_9580_18526_predicted_140.png',\n 'C:\\\\Users\\\\akalloo\\\\Documents\\\\GitHub\\\\UNet_Glomerulus\\\\figure\\\\UHN_Slide21_12005_19466_image_141.png',\n 'C:\\\\Users\\\\akalloo\\\\Documents\\\\GitHub\\\\UNet_Glomerulus\\\\figure\\\\UHN_Slide21_12005_19466_mask_141.png',\n 'C:\\\\Users\\\\akalloo\\\\Documents\\\\GitHub\\\\UNet_Glomerulus\\\\figure\\\\UHN_Slide21_12005_19466_predicted_141.png',\n 'C:\\\\Users\\\\akalloo\\\\Documents\\\\GitHub\\\\UNet_Glomerulus\\\\figure\\\\UHN_Slide21_4999_21088_image_142.png',\n 'C:\\\\Users\\\\akalloo\\\\Documents\\\\GitHub\\\\UNet_Glomerulus\\\\figure\\\\UHN_Slide21_4999_21088_mask_142.png',\n 'C:\\\\Users\\\\akalloo\\\\Documents\\\\GitHub\\\\UNet_Glomerulus\\\\figure\\\\UHN_Slide21_4999_21088_predicted_142.png',\n 'C:\\\\Users\\\\akalloo\\\\Documents\\\\GitHub\\\\UNet_Glomerulus\\\\figure\\\\UHN_Slide21_6723_24099_image_143.png',\n 'C:\\\\Users\\\\akalloo\\\\Documents\\\\GitHub\\\\UNet_Glomerulus\\\\figure\\\\UHN_Slide21_6723_24099_mask_143.png',\n 'C:\\\\Users\\\\akalloo\\\\Documents\\\\GitHub\\\\UNet_Glomerulus\\\\figure\\\\UHN_Slide21_6723_24099_predicted_143.png',\n 'C:\\\\Users\\\\akalloo\\\\Documents\\\\GitHub\\\\UNet_Glomerulus\\\\figure\\\\UHN_Slide21_8127_37415_image_144.png',\n 'C:\\\\Users\\\\akalloo\\\\Documents\\\\GitHub\\\\UNet_Glomerulus\\\\figure\\\\UHN_Slide21_8127_37415_mask_144.png',\n 'C:\\\\Users\\\\akalloo\\\\Documents\\\\GitHub\\\\UNet_Glomerulus\\\\figure\\\\UHN_Slide21_8127_37415_predicted_144.png',\n 'C:\\\\Users\\\\akalloo\\\\Documents\\\\GitHub\\\\UNet_Glomerulus\\\\figure\\\\UHN_Slide22_13853_31250_image_145.png',\n 'C:\\\\Users\\\\akalloo\\\\Documents\\\\GitHub\\\\UNet_Glomerulus\\\\figure\\\\UHN_Slide22_13853_31250_mask_145.png',\n 'C:\\\\Users\\\\akalloo\\\\Documents\\\\GitHub\\\\UNet_Glomerulus\\\\figure\\\\UHN_Slide22_13853_31250_predicted_145.png',\n 'C:\\\\Users\\\\akalloo\\\\Documents\\\\GitHub\\\\UNet_Glomerulus\\\\figure\\\\UHN_Slide22_16493_17361_image_146.png',\n 'C:\\\\Users\\\\akalloo\\\\Documents\\\\GitHub\\\\UNet_Glomerulus\\\\figure\\\\UHN_Slide22_16493_17361_mask_146.png',\n 'C:\\\\Users\\\\akalloo\\\\Documents\\\\GitHub\\\\UNet_Glomerulus\\\\figure\\\\UHN_Slide22_16493_17361_predicted_146.png',\n 'C:\\\\Users\\\\akalloo\\\\Documents\\\\GitHub\\\\UNet_Glomerulus\\\\figure\\\\UHN_Slide22_16657_11489_image_147.png',\n 'C:\\\\Users\\\\akalloo\\\\Documents\\\\GitHub\\\\UNet_Glomerulus\\\\figure\\\\UHN_Slide22_16657_11489_mask_147.png',\n 'C:\\\\Users\\\\akalloo\\\\Documents\\\\GitHub\\\\UNet_Glomerulus\\\\figure\\\\UHN_Slide22_16657_11489_predicted_147.png',\n 'C:\\\\Users\\\\akalloo\\\\Documents\\\\GitHub\\\\UNet_Glomerulus\\\\figure\\\\UHN_Slide22_17225_28086_image_148.png',\n 'C:\\\\Users\\\\akalloo\\\\Documents\\\\GitHub\\\\UNet_Glomerulus\\\\figure\\\\UHN_Slide22_17225_28086_mask_148.png',\n 'C:\\\\Users\\\\akalloo\\\\Documents\\\\GitHub\\\\UNet_Glomerulus\\\\figure\\\\UHN_Slide22_17225_28086_predicted_148.png',\n 'C:\\\\Users\\\\akalloo\\\\Documents\\\\GitHub\\\\UNet_Glomerulus\\\\figure\\\\UHN_Slide22_18093_20705_image_149.png',\n 'C:\\\\Users\\\\akalloo\\\\Documents\\\\GitHub\\\\UNet_Glomerulus\\\\figure\\\\UHN_Slide22_18093_20705_mask_149.png',\n 'C:\\\\Users\\\\akalloo\\\\Documents\\\\GitHub\\\\UNet_Glomerulus\\\\figure\\\\UHN_Slide22_18093_20705_predicted_149.png',\n 'C:\\\\Users\\\\akalloo\\\\Documents\\\\GitHub\\\\UNet_Glomerulus\\\\figure\\\\UHN_Slide22_18693_22174_image_150.png',\n 'C:\\\\Users\\\\akalloo\\\\Documents\\\\GitHub\\\\UNet_Glomerulus\\\\figure\\\\UHN_Slide22_18693_22174_mask_150.png',\n 'C:\\\\Users\\\\akalloo\\\\Documents\\\\GitHub\\\\UNet_Glomerulus\\\\figure\\\\UHN_Slide22_18693_22174_predicted_150.png',\n 'C:\\\\Users\\\\akalloo\\\\Documents\\\\GitHub\\\\UNet_Glomerulus\\\\figure\\\\UHN_Slide23_11286_14275_image_151.png',\n 'C:\\\\Users\\\\akalloo\\\\Documents\\\\GitHub\\\\UNet_Glomerulus\\\\figure\\\\UHN_Slide23_11286_14275_mask_151.png',\n 'C:\\\\Users\\\\akalloo\\\\Documents\\\\GitHub\\\\UNet_Glomerulus\\\\figure\\\\UHN_Slide23_11286_14275_predicted_151.png',\n 'C:\\\\Users\\\\akalloo\\\\Documents\\\\GitHub\\\\UNet_Glomerulus\\\\figure\\\\UHN_Slide23_6160_24633_image_152.png',\n 'C:\\\\Users\\\\akalloo\\\\Documents\\\\GitHub\\\\UNet_Glomerulus\\\\figure\\\\UHN_Slide23_6160_24633_mask_152.png',\n 'C:\\\\Users\\\\akalloo\\\\Documents\\\\GitHub\\\\UNet_Glomerulus\\\\figure\\\\UHN_Slide23_6160_24633_predicted_152.png',\n 'C:\\\\Users\\\\akalloo\\\\Documents\\\\GitHub\\\\UNet_Glomerulus\\\\figure\\\\UHN_Slide23_8406_35063_image_153.png',\n 'C:\\\\Users\\\\akalloo\\\\Documents\\\\GitHub\\\\UNet_Glomerulus\\\\figure\\\\UHN_Slide23_8406_35063_mask_153.png',\n 'C:\\\\Users\\\\akalloo\\\\Documents\\\\GitHub\\\\UNet_Glomerulus\\\\figure\\\\UHN_Slide23_8406_35063_predicted_153.png',\n 'C:\\\\Users\\\\akalloo\\\\Documents\\\\GitHub\\\\UNet_Glomerulus\\\\figure\\\\UHN_Slide23_9558_17755_image_154.png',\n 'C:\\\\Users\\\\akalloo\\\\Documents\\\\GitHub\\\\UNet_Glomerulus\\\\figure\\\\UHN_Slide23_9558_17755_mask_154.png',\n 'C:\\\\Users\\\\akalloo\\\\Documents\\\\GitHub\\\\UNet_Glomerulus\\\\figure\\\\UHN_Slide23_9558_17755_predicted_154.png',\n 'C:\\\\Users\\\\akalloo\\\\Documents\\\\GitHub\\\\UNet_Glomerulus\\\\figure\\\\UHN_Slide23_9850_18971_image_155.png',\n 'C:\\\\Users\\\\akalloo\\\\Documents\\\\GitHub\\\\UNet_Glomerulus\\\\figure\\\\UHN_Slide23_9850_18971_mask_155.png',\n 'C:\\\\Users\\\\akalloo\\\\Documents\\\\GitHub\\\\UNet_Glomerulus\\\\figure\\\\UHN_Slide23_9850_18971_predicted_155.png',\n 'C:\\\\Users\\\\akalloo\\\\Documents\\\\GitHub\\\\UNet_Glomerulus\\\\figure\\\\UHN_Slide24_4770_4908_image_156.png',\n 'C:\\\\Users\\\\akalloo\\\\Documents\\\\GitHub\\\\UNet_Glomerulus\\\\figure\\\\UHN_Slide24_4770_4908_mask_156.png',\n 'C:\\\\Users\\\\akalloo\\\\Documents\\\\GitHub\\\\UNet_Glomerulus\\\\figure\\\\UHN_Slide24_4770_4908_predicted_156.png',\n 'C:\\\\Users\\\\akalloo\\\\Documents\\\\GitHub\\\\UNet_Glomerulus\\\\figure\\\\UHN_Slide24_7974_18555_image_157.png',\n 'C:\\\\Users\\\\akalloo\\\\Documents\\\\GitHub\\\\UNet_Glomerulus\\\\figure\\\\UHN_Slide24_7974_18555_mask_157.png',\n 'C:\\\\Users\\\\akalloo\\\\Documents\\\\GitHub\\\\UNet_Glomerulus\\\\figure\\\\UHN_Slide24_7974_18555_predicted_157.png',\n 'C:\\\\Users\\\\akalloo\\\\Documents\\\\GitHub\\\\UNet_Glomerulus\\\\figure\\\\UHN_Slide24_9142_20939_image_158.png',\n 'C:\\\\Users\\\\akalloo\\\\Documents\\\\GitHub\\\\UNet_Glomerulus\\\\figure\\\\UHN_Slide24_9142_20939_mask_158.png',\n 'C:\\\\Users\\\\akalloo\\\\Documents\\\\GitHub\\\\UNet_Glomerulus\\\\figure\\\\UHN_Slide24_9142_20939_predicted_158.png',\n 'C:\\\\Users\\\\akalloo\\\\Documents\\\\GitHub\\\\UNet_Glomerulus\\\\figure\\\\UHN_Slide25_7938_25876_image_159.png',\n 'C:\\\\Users\\\\akalloo\\\\Documents\\\\GitHub\\\\UNet_Glomerulus\\\\figure\\\\UHN_Slide25_7938_25876_mask_159.png',\n 'C:\\\\Users\\\\akalloo\\\\Documents\\\\GitHub\\\\UNet_Glomerulus\\\\figure\\\\UHN_Slide25_7938_25876_predicted_159.png',\n 'C:\\\\Users\\\\akalloo\\\\Documents\\\\GitHub\\\\UNet_Glomerulus\\\\figure\\\\UHN_Slide25_9376_13033_image_160.png',\n 'C:\\\\Users\\\\akalloo\\\\Documents\\\\GitHub\\\\UNet_Glomerulus\\\\figure\\\\UHN_Slide25_9376_13033_mask_160.png',\n 'C:\\\\Users\\\\akalloo\\\\Documents\\\\GitHub\\\\UNet_Glomerulus\\\\figure\\\\UHN_Slide25_9376_13033_predicted_160.png',\n 'C:\\\\Users\\\\akalloo\\\\Documents\\\\GitHub\\\\UNet_Glomerulus\\\\figure\\\\UHN_Slide26_7318_12040_image_161.png',\n 'C:\\\\Users\\\\akalloo\\\\Documents\\\\GitHub\\\\UNet_Glomerulus\\\\figure\\\\UHN_Slide26_7318_12040_mask_161.png',\n 'C:\\\\Users\\\\akalloo\\\\Documents\\\\GitHub\\\\UNet_Glomerulus\\\\figure\\\\UHN_Slide26_7318_12040_predicted_161.png',\n 'C:\\\\Users\\\\akalloo\\\\Documents\\\\GitHub\\\\UNet_Glomerulus\\\\figure\\\\UHN_Slide26_7956_28008_image_162.png',\n 'C:\\\\Users\\\\akalloo\\\\Documents\\\\GitHub\\\\UNet_Glomerulus\\\\figure\\\\UHN_Slide26_7956_28008_mask_162.png',\n 'C:\\\\Users\\\\akalloo\\\\Documents\\\\GitHub\\\\UNet_Glomerulus\\\\figure\\\\UHN_Slide26_7956_28008_predicted_162.png',\n 'C:\\\\Users\\\\akalloo\\\\Documents\\\\GitHub\\\\UNet_Glomerulus\\\\figure\\\\UHN_Slide28_12708_10178_image_163.png',\n 'C:\\\\Users\\\\akalloo\\\\Documents\\\\GitHub\\\\UNet_Glomerulus\\\\figure\\\\UHN_Slide28_12708_10178_mask_163.png',\n 'C:\\\\Users\\\\akalloo\\\\Documents\\\\GitHub\\\\UNet_Glomerulus\\\\figure\\\\UHN_Slide28_12708_10178_predicted_163.png',\n 'C:\\\\Users\\\\akalloo\\\\Documents\\\\GitHub\\\\UNet_Glomerulus\\\\figure\\\\UHN_Slide28_14224_24150_image_164.png',\n 'C:\\\\Users\\\\akalloo\\\\Documents\\\\GitHub\\\\UNet_Glomerulus\\\\figure\\\\UHN_Slide28_14224_24150_mask_164.png',\n 'C:\\\\Users\\\\akalloo\\\\Documents\\\\GitHub\\\\UNet_Glomerulus\\\\figure\\\\UHN_Slide28_14224_24150_predicted_164.png',\n 'C:\\\\Users\\\\akalloo\\\\Documents\\\\GitHub\\\\UNet_Glomerulus\\\\figure\\\\UHN_Slide28_15680_24182_image_165.png',\n 'C:\\\\Users\\\\akalloo\\\\Documents\\\\GitHub\\\\UNet_Glomerulus\\\\figure\\\\UHN_Slide28_15680_24182_mask_165.png',\n 'C:\\\\Users\\\\akalloo\\\\Documents\\\\GitHub\\\\UNet_Glomerulus\\\\figure\\\\UHN_Slide28_15680_24182_predicted_165.png',\n 'C:\\\\Users\\\\akalloo\\\\Documents\\\\GitHub\\\\UNet_Glomerulus\\\\figure\\\\UHN_Slide28_5606_11630_image_166.png',\n 'C:\\\\Users\\\\akalloo\\\\Documents\\\\GitHub\\\\UNet_Glomerulus\\\\figure\\\\UHN_Slide28_5606_11630_mask_166.png',\n 'C:\\\\Users\\\\akalloo\\\\Documents\\\\GitHub\\\\UNet_Glomerulus\\\\figure\\\\UHN_Slide28_5606_11630_predicted_166.png',\n 'C:\\\\Users\\\\akalloo\\\\Documents\\\\GitHub\\\\UNet_Glomerulus\\\\figure\\\\UHN_Slide28_6272_17332_image_167.png',\n 'C:\\\\Users\\\\akalloo\\\\Documents\\\\GitHub\\\\UNet_Glomerulus\\\\figure\\\\UHN_Slide28_6272_17332_mask_167.png',\n 'C:\\\\Users\\\\akalloo\\\\Documents\\\\GitHub\\\\UNet_Glomerulus\\\\figure\\\\UHN_Slide28_6272_17332_predicted_167.png',\n 'C:\\\\Users\\\\akalloo\\\\Documents\\\\GitHub\\\\UNet_Glomerulus\\\\figure\\\\UHN_Slide29_10336_47910_image_168.png',\n 'C:\\\\Users\\\\akalloo\\\\Documents\\\\GitHub\\\\UNet_Glomerulus\\\\figure\\\\UHN_Slide29_10336_47910_mask_168.png',\n 'C:\\\\Users\\\\akalloo\\\\Documents\\\\GitHub\\\\UNet_Glomerulus\\\\figure\\\\UHN_Slide29_10336_47910_predicted_168.png',\n 'C:\\\\Users\\\\akalloo\\\\Documents\\\\GitHub\\\\UNet_Glomerulus\\\\figure\\\\UHN_Slide29_13272_35486_image_169.png',\n 'C:\\\\Users\\\\akalloo\\\\Documents\\\\GitHub\\\\UNet_Glomerulus\\\\figure\\\\UHN_Slide29_13272_35486_mask_169.png',\n 'C:\\\\Users\\\\akalloo\\\\Documents\\\\GitHub\\\\UNet_Glomerulus\\\\figure\\\\UHN_Slide29_13272_35486_predicted_169.png',\n 'C:\\\\Users\\\\akalloo\\\\Documents\\\\GitHub\\\\UNet_Glomerulus\\\\figure\\\\UHN_Slide29_13296_30670_image_170.png',\n 'C:\\\\Users\\\\akalloo\\\\Documents\\\\GitHub\\\\UNet_Glomerulus\\\\figure\\\\UHN_Slide29_13296_30670_mask_170.png',\n 'C:\\\\Users\\\\akalloo\\\\Documents\\\\GitHub\\\\UNet_Glomerulus\\\\figure\\\\UHN_Slide29_13296_30670_predicted_170.png',\n 'C:\\\\Users\\\\akalloo\\\\Documents\\\\GitHub\\\\UNet_Glomerulus\\\\figure\\\\UHN_Slide29_4992_23728_image_171.png',\n 'C:\\\\Users\\\\akalloo\\\\Documents\\\\GitHub\\\\UNet_Glomerulus\\\\figure\\\\UHN_Slide29_4992_23728_mask_171.png',\n 'C:\\\\Users\\\\akalloo\\\\Documents\\\\GitHub\\\\UNet_Glomerulus\\\\figure\\\\UHN_Slide29_4992_23728_predicted_171.png',\n 'C:\\\\Users\\\\akalloo\\\\Documents\\\\GitHub\\\\UNet_Glomerulus\\\\figure\\\\UHN_Slide30_3208_20363_image_172.png',\n 'C:\\\\Users\\\\akalloo\\\\Documents\\\\GitHub\\\\UNet_Glomerulus\\\\figure\\\\UHN_Slide30_3208_20363_mask_172.png',\n 'C:\\\\Users\\\\akalloo\\\\Documents\\\\GitHub\\\\UNet_Glomerulus\\\\figure\\\\UHN_Slide30_3208_20363_predicted_172.png',\n 'C:\\\\Users\\\\akalloo\\\\Documents\\\\GitHub\\\\UNet_Glomerulus\\\\figure\\\\UHN_Slide30_3270_27917_image_173.png',\n 'C:\\\\Users\\\\akalloo\\\\Documents\\\\GitHub\\\\UNet_Glomerulus\\\\figure\\\\UHN_Slide30_3270_27917_mask_173.png',\n 'C:\\\\Users\\\\akalloo\\\\Documents\\\\GitHub\\\\UNet_Glomerulus\\\\figure\\\\UHN_Slide30_3270_27917_predicted_173.png',\n 'C:\\\\Users\\\\akalloo\\\\Documents\\\\GitHub\\\\UNet_Glomerulus\\\\figure\\\\UHN_Slide30_3776_12907_image_174.png',\n 'C:\\\\Users\\\\akalloo\\\\Documents\\\\GitHub\\\\UNet_Glomerulus\\\\figure\\\\UHN_Slide30_3776_12907_mask_174.png',\n 'C:\\\\Users\\\\akalloo\\\\Documents\\\\GitHub\\\\UNet_Glomerulus\\\\figure\\\\UHN_Slide30_3776_12907_predicted_174.png',\n 'C:\\\\Users\\\\akalloo\\\\Documents\\\\GitHub\\\\UNet_Glomerulus\\\\figure\\\\UHN_Slide30_3980_8327_image_175.png',\n 'C:\\\\Users\\\\akalloo\\\\Documents\\\\GitHub\\\\UNet_Glomerulus\\\\figure\\\\UHN_Slide30_3980_8327_mask_175.png',\n 'C:\\\\Users\\\\akalloo\\\\Documents\\\\GitHub\\\\UNet_Glomerulus\\\\figure\\\\UHN_Slide30_3980_8327_predicted_175.png',\n 'C:\\\\Users\\\\akalloo\\\\Documents\\\\GitHub\\\\UNet_Glomerulus\\\\figure\\\\UHN_Slide31_12365_7884_image_176.png',\n 'C:\\\\Users\\\\akalloo\\\\Documents\\\\GitHub\\\\UNet_Glomerulus\\\\figure\\\\UHN_Slide31_12365_7884_mask_176.png',\n 'C:\\\\Users\\\\akalloo\\\\Documents\\\\GitHub\\\\UNet_Glomerulus\\\\figure\\\\UHN_Slide31_12365_7884_predicted_176.png',\n 'C:\\\\Users\\\\akalloo\\\\Documents\\\\GitHub\\\\UNet_Glomerulus\\\\figure\\\\UHN_Slide31_16374_15808_image_177.png',\n 'C:\\\\Users\\\\akalloo\\\\Documents\\\\GitHub\\\\UNet_Glomerulus\\\\figure\\\\UHN_Slide31_16374_15808_mask_177.png',\n 'C:\\\\Users\\\\akalloo\\\\Documents\\\\GitHub\\\\UNet_Glomerulus\\\\figure\\\\UHN_Slide31_16374_15808_predicted_177.png',\n 'C:\\\\Users\\\\akalloo\\\\Documents\\\\GitHub\\\\UNet_Glomerulus\\\\figure\\\\UHN_Slide31_5712_10674_image_178.png',\n 'C:\\\\Users\\\\akalloo\\\\Documents\\\\GitHub\\\\UNet_Glomerulus\\\\figure\\\\UHN_Slide31_5712_10674_mask_178.png',\n 'C:\\\\Users\\\\akalloo\\\\Documents\\\\GitHub\\\\UNet_Glomerulus\\\\figure\\\\UHN_Slide31_5712_10674_predicted_178.png',\n 'C:\\\\Users\\\\akalloo\\\\Documents\\\\GitHub\\\\UNet_Glomerulus\\\\figure\\\\UHN_Slide32_10878_33500_image_179.png',\n 'C:\\\\Users\\\\akalloo\\\\Documents\\\\GitHub\\\\UNet_Glomerulus\\\\figure\\\\UHN_Slide32_10878_33500_mask_179.png',\n 'C:\\\\Users\\\\akalloo\\\\Documents\\\\GitHub\\\\UNet_Glomerulus\\\\figure\\\\UHN_Slide32_10878_33500_predicted_179.png',\n 'C:\\\\Users\\\\akalloo\\\\Documents\\\\GitHub\\\\UNet_Glomerulus\\\\figure\\\\UHN_Slide32_11742_30500_image_180.png',\n 'C:\\\\Users\\\\akalloo\\\\Documents\\\\GitHub\\\\UNet_Glomerulus\\\\figure\\\\UHN_Slide32_11742_30500_mask_180.png',\n 'C:\\\\Users\\\\akalloo\\\\Documents\\\\GitHub\\\\UNet_Glomerulus\\\\figure\\\\UHN_Slide32_11742_30500_predicted_180.png',\n 'C:\\\\Users\\\\akalloo\\\\Documents\\\\GitHub\\\\UNet_Glomerulus\\\\figure\\\\UHN_Slide33_4884_24125_image_181.png',\n 'C:\\\\Users\\\\akalloo\\\\Documents\\\\GitHub\\\\UNet_Glomerulus\\\\figure\\\\UHN_Slide33_4884_24125_mask_181.png',\n 'C:\\\\Users\\\\akalloo\\\\Documents\\\\GitHub\\\\UNet_Glomerulus\\\\figure\\\\UHN_Slide33_4884_24125_predicted_181.png',\n 'C:\\\\Users\\\\akalloo\\\\Documents\\\\GitHub\\\\UNet_Glomerulus\\\\figure\\\\UHN_Slide33_8061_9547_image_182.png',\n 'C:\\\\Users\\\\akalloo\\\\Documents\\\\GitHub\\\\UNet_Glomerulus\\\\figure\\\\UHN_Slide33_8061_9547_mask_182.png',\n 'C:\\\\Users\\\\akalloo\\\\Documents\\\\GitHub\\\\UNet_Glomerulus\\\\figure\\\\UHN_Slide33_8061_9547_predicted_182.png',\n 'C:\\\\Users\\\\akalloo\\\\Documents\\\\GitHub\\\\UNet_Glomerulus\\\\figure\\\\UHN_Slide34_12788_16146_image_183.png',\n 'C:\\\\Users\\\\akalloo\\\\Documents\\\\GitHub\\\\UNet_Glomerulus\\\\figure\\\\UHN_Slide34_12788_16146_mask_183.png',\n 'C:\\\\Users\\\\akalloo\\\\Documents\\\\GitHub\\\\UNet_Glomerulus\\\\figure\\\\UHN_Slide34_12788_16146_predicted_183.png',\n 'C:\\\\Users\\\\akalloo\\\\Documents\\\\GitHub\\\\UNet_Glomerulus\\\\figure\\\\UHN_Slide34_13284_14742_image_184.png',\n 'C:\\\\Users\\\\akalloo\\\\Documents\\\\GitHub\\\\UNet_Glomerulus\\\\figure\\\\UHN_Slide34_13284_14742_mask_184.png',\n 'C:\\\\Users\\\\akalloo\\\\Documents\\\\GitHub\\\\UNet_Glomerulus\\\\figure\\\\UHN_Slide34_13284_14742_predicted_184.png',\n 'C:\\\\Users\\\\akalloo\\\\Documents\\\\GitHub\\\\UNet_Glomerulus\\\\figure\\\\UHN_Slide36_17979_13126_image_185.png',\n 'C:\\\\Users\\\\akalloo\\\\Documents\\\\GitHub\\\\UNet_Glomerulus\\\\figure\\\\UHN_Slide36_17979_13126_mask_185.png',\n 'C:\\\\Users\\\\akalloo\\\\Documents\\\\GitHub\\\\UNet_Glomerulus\\\\figure\\\\UHN_Slide36_17979_13126_predicted_185.png',\n 'C:\\\\Users\\\\akalloo\\\\Documents\\\\GitHub\\\\UNet_Glomerulus\\\\figure\\\\UHN_Slide37_11764_37474_image_186.png',\n 'C:\\\\Users\\\\akalloo\\\\Documents\\\\GitHub\\\\UNet_Glomerulus\\\\figure\\\\UHN_Slide37_11764_37474_mask_186.png',\n 'C:\\\\Users\\\\akalloo\\\\Documents\\\\GitHub\\\\UNet_Glomerulus\\\\figure\\\\UHN_Slide37_11764_37474_predicted_186.png',\n 'C:\\\\Users\\\\akalloo\\\\Documents\\\\GitHub\\\\UNet_Glomerulus\\\\figure\\\\UHN_Slide37_12148_3738_image_187.png',\n 'C:\\\\Users\\\\akalloo\\\\Documents\\\\GitHub\\\\UNet_Glomerulus\\\\figure\\\\UHN_Slide37_12148_3738_mask_187.png',\n 'C:\\\\Users\\\\akalloo\\\\Documents\\\\GitHub\\\\UNet_Glomerulus\\\\figure\\\\UHN_Slide37_12148_3738_predicted_187.png',\n 'C:\\\\Users\\\\akalloo\\\\Documents\\\\GitHub\\\\UNet_Glomerulus\\\\figure\\\\UHN_Slide37_6476_21658_image_188.png',\n 'C:\\\\Users\\\\akalloo\\\\Documents\\\\GitHub\\\\UNet_Glomerulus\\\\figure\\\\UHN_Slide37_6476_21658_mask_188.png',\n 'C:\\\\Users\\\\akalloo\\\\Documents\\\\GitHub\\\\UNet_Glomerulus\\\\figure\\\\UHN_Slide37_6476_21658_predicted_188.png',\n 'C:\\\\Users\\\\akalloo\\\\Documents\\\\GitHub\\\\UNet_Glomerulus\\\\figure\\\\UHN_Slide37_6636_14101_image_189.png',\n 'C:\\\\Users\\\\akalloo\\\\Documents\\\\GitHub\\\\UNet_Glomerulus\\\\figure\\\\UHN_Slide37_6636_14101_mask_189.png',\n 'C:\\\\Users\\\\akalloo\\\\Documents\\\\GitHub\\\\UNet_Glomerulus\\\\figure\\\\UHN_Slide37_6636_14101_predicted_189.png',\n 'C:\\\\Users\\\\akalloo\\\\Documents\\\\GitHub\\\\UNet_Glomerulus\\\\figure\\\\UHN_Slide38_9313_37123_image_190.png',\n 'C:\\\\Users\\\\akalloo\\\\Documents\\\\GitHub\\\\UNet_Glomerulus\\\\figure\\\\UHN_Slide38_9313_37123_mask_190.png',\n 'C:\\\\Users\\\\akalloo\\\\Documents\\\\GitHub\\\\UNet_Glomerulus\\\\figure\\\\UHN_Slide38_9313_37123_predicted_190.png',\n 'C:\\\\Users\\\\akalloo\\\\Documents\\\\GitHub\\\\UNet_Glomerulus\\\\figure\\\\UHN_Slide39_2864_15975_image_191.png',\n 'C:\\\\Users\\\\akalloo\\\\Documents\\\\GitHub\\\\UNet_Glomerulus\\\\figure\\\\UHN_Slide39_2864_15975_mask_191.png',\n 'C:\\\\Users\\\\akalloo\\\\Documents\\\\GitHub\\\\UNet_Glomerulus\\\\figure\\\\UHN_Slide39_2864_15975_predicted_191.png',\n 'C:\\\\Users\\\\akalloo\\\\Documents\\\\GitHub\\\\UNet_Glomerulus\\\\figure\\\\UHN_Slide39_4000_25531_image_192.png',\n 'C:\\\\Users\\\\akalloo\\\\Documents\\\\GitHub\\\\UNet_Glomerulus\\\\figure\\\\UHN_Slide39_4000_25531_mask_192.png',\n 'C:\\\\Users\\\\akalloo\\\\Documents\\\\GitHub\\\\UNet_Glomerulus\\\\figure\\\\UHN_Slide39_4000_25531_predicted_192.png',\n 'C:\\\\Users\\\\akalloo\\\\Documents\\\\GitHub\\\\UNet_Glomerulus\\\\figure\\\\UHN_Slide39_4575_4831_image_193.png',\n 'C:\\\\Users\\\\akalloo\\\\Documents\\\\GitHub\\\\UNet_Glomerulus\\\\figure\\\\UHN_Slide39_4575_4831_mask_193.png',\n 'C:\\\\Users\\\\akalloo\\\\Documents\\\\GitHub\\\\UNet_Glomerulus\\\\figure\\\\UHN_Slide39_4575_4831_predicted_193.png',\n 'C:\\\\Users\\\\akalloo\\\\Documents\\\\GitHub\\\\UNet_Glomerulus\\\\figure\\\\UHN_Slide40_4083_32270_image_194.png',\n 'C:\\\\Users\\\\akalloo\\\\Documents\\\\GitHub\\\\UNet_Glomerulus\\\\figure\\\\UHN_Slide40_4083_32270_mask_194.png',\n 'C:\\\\Users\\\\akalloo\\\\Documents\\\\GitHub\\\\UNet_Glomerulus\\\\figure\\\\UHN_Slide40_4083_32270_predicted_194.png',\n 'C:\\\\Users\\\\akalloo\\\\Documents\\\\GitHub\\\\UNet_Glomerulus\\\\figure\\\\UHN_Slide40_4911_28354_image_195.png',\n 'C:\\\\Users\\\\akalloo\\\\Documents\\\\GitHub\\\\UNet_Glomerulus\\\\figure\\\\UHN_Slide40_4911_28354_mask_195.png',\n 'C:\\\\Users\\\\akalloo\\\\Documents\\\\GitHub\\\\UNet_Glomerulus\\\\figure\\\\UHN_Slide40_4911_28354_predicted_195.png',\n 'C:\\\\Users\\\\akalloo\\\\Documents\\\\GitHub\\\\UNet_Glomerulus\\\\figure\\\\UHN_Slide40_7274_13236_image_196.png',\n 'C:\\\\Users\\\\akalloo\\\\Documents\\\\GitHub\\\\UNet_Glomerulus\\\\figure\\\\UHN_Slide40_7274_13236_mask_196.png',\n 'C:\\\\Users\\\\akalloo\\\\Documents\\\\GitHub\\\\UNet_Glomerulus\\\\figure\\\\UHN_Slide40_7274_13236_predicted_196.png',\n 'C:\\\\Users\\\\akalloo\\\\Documents\\\\GitHub\\\\UNet_Glomerulus\\\\figure\\\\UHN_Slide41_4271_38648_image_197.png',\n 'C:\\\\Users\\\\akalloo\\\\Documents\\\\GitHub\\\\UNet_Glomerulus\\\\figure\\\\UHN_Slide41_4271_38648_mask_197.png',\n 'C:\\\\Users\\\\akalloo\\\\Documents\\\\GitHub\\\\UNet_Glomerulus\\\\figure\\\\UHN_Slide41_4271_38648_predicted_197.png',\n 'C:\\\\Users\\\\akalloo\\\\Documents\\\\GitHub\\\\UNet_Glomerulus\\\\figure\\\\UHN_Slide41_4379_41328_image_198.png',\n 'C:\\\\Users\\\\akalloo\\\\Documents\\\\GitHub\\\\UNet_Glomerulus\\\\figure\\\\UHN_Slide41_4379_41328_mask_198.png',\n 'C:\\\\Users\\\\akalloo\\\\Documents\\\\GitHub\\\\UNet_Glomerulus\\\\figure\\\\UHN_Slide41_4379_41328_predicted_198.png',\n 'C:\\\\Users\\\\akalloo\\\\Documents\\\\GitHub\\\\UNet_Glomerulus\\\\figure\\\\UHN_Slide41_6127_38600_image_199.png',\n 'C:\\\\Users\\\\akalloo\\\\Documents\\\\GitHub\\\\UNet_Glomerulus\\\\figure\\\\UHN_Slide41_6127_38600_mask_199.png',\n 'C:\\\\Users\\\\akalloo\\\\Documents\\\\GitHub\\\\UNet_Glomerulus\\\\figure\\\\UHN_Slide41_6127_38600_predicted_199.png',\n 'C:\\\\Users\\\\akalloo\\\\Documents\\\\GitHub\\\\UNet_Glomerulus\\\\figure\\\\UHN_Slide41_6711_28164_image_200.png',\n 'C:\\\\Users\\\\akalloo\\\\Documents\\\\GitHub\\\\UNet_Glomerulus\\\\figure\\\\UHN_Slide41_6711_28164_mask_200.png',\n 'C:\\\\Users\\\\akalloo\\\\Documents\\\\GitHub\\\\UNet_Glomerulus\\\\figure\\\\UHN_Slide41_6711_28164_predicted_200.png',\n 'C:\\\\Users\\\\akalloo\\\\Documents\\\\GitHub\\\\UNet_Glomerulus\\\\figure\\\\UHN_Slide41_6863_30820_image_201.png',\n 'C:\\\\Users\\\\akalloo\\\\Documents\\\\GitHub\\\\UNet_Glomerulus\\\\figure\\\\UHN_Slide41_6863_30820_mask_201.png',\n 'C:\\\\Users\\\\akalloo\\\\Documents\\\\GitHub\\\\UNet_Glomerulus\\\\figure\\\\UHN_Slide41_6863_30820_predicted_201.png',\n 'C:\\\\Users\\\\akalloo\\\\Documents\\\\GitHub\\\\UNet_Glomerulus\\\\figure\\\\UHN_Slide42_20399_14430_image_202.png',\n 'C:\\\\Users\\\\akalloo\\\\Documents\\\\GitHub\\\\UNet_Glomerulus\\\\figure\\\\UHN_Slide42_20399_14430_mask_202.png',\n 'C:\\\\Users\\\\akalloo\\\\Documents\\\\GitHub\\\\UNet_Glomerulus\\\\figure\\\\UHN_Slide42_20399_14430_predicted_202.png',\n 'C:\\\\Users\\\\akalloo\\\\Documents\\\\GitHub\\\\UNet_Glomerulus\\\\figure\\\\UHN_Slide42_24201_13127_image_203.png',\n 'C:\\\\Users\\\\akalloo\\\\Documents\\\\GitHub\\\\UNet_Glomerulus\\\\figure\\\\UHN_Slide42_24201_13127_mask_203.png',\n 'C:\\\\Users\\\\akalloo\\\\Documents\\\\GitHub\\\\UNet_Glomerulus\\\\figure\\\\UHN_Slide42_24201_13127_predicted_203.png',\n 'C:\\\\Users\\\\akalloo\\\\Documents\\\\GitHub\\\\UNet_Glomerulus\\\\figure\\\\UHN_Slide42_27269_12707_image_204.png',\n 'C:\\\\Users\\\\akalloo\\\\Documents\\\\GitHub\\\\UNet_Glomerulus\\\\figure\\\\UHN_Slide42_27269_12707_mask_204.png',\n 'C:\\\\Users\\\\akalloo\\\\Documents\\\\GitHub\\\\UNet_Glomerulus\\\\figure\\\\UHN_Slide42_27269_12707_predicted_204.png',\n 'C:\\\\Users\\\\akalloo\\\\Documents\\\\GitHub\\\\UNet_Glomerulus\\\\figure\\\\UHN_Slide42_31721_12343_image_205.png',\n 'C:\\\\Users\\\\akalloo\\\\Documents\\\\GitHub\\\\UNet_Glomerulus\\\\figure\\\\UHN_Slide42_31721_12343_mask_205.png',\n 'C:\\\\Users\\\\akalloo\\\\Documents\\\\GitHub\\\\UNet_Glomerulus\\\\figure\\\\UHN_Slide42_31721_12343_predicted_205.png',\n 'C:\\\\Users\\\\akalloo\\\\Documents\\\\GitHub\\\\UNet_Glomerulus\\\\figure\\\\UHN_Slide43_32536_2983_image_206.png',\n 'C:\\\\Users\\\\akalloo\\\\Documents\\\\GitHub\\\\UNet_Glomerulus\\\\figure\\\\UHN_Slide43_32536_2983_mask_206.png',\n 'C:\\\\Users\\\\akalloo\\\\Documents\\\\GitHub\\\\UNet_Glomerulus\\\\figure\\\\UHN_Slide43_32536_2983_predicted_206.png',\n 'C:\\\\Users\\\\akalloo\\\\Documents\\\\GitHub\\\\UNet_Glomerulus\\\\figure\\\\UHN_Slide43_48471_7193_image_207.png',\n 'C:\\\\Users\\\\akalloo\\\\Documents\\\\GitHub\\\\UNet_Glomerulus\\\\figure\\\\UHN_Slide43_48471_7193_mask_207.png',\n 'C:\\\\Users\\\\akalloo\\\\Documents\\\\GitHub\\\\UNet_Glomerulus\\\\figure\\\\UHN_Slide43_48471_7193_predicted_207.png',\n 'C:\\\\Users\\\\akalloo\\\\Documents\\\\GitHub\\\\UNet_Glomerulus\\\\figure\\\\UHN_Slide43_48475_6065_image_208.png',\n 'C:\\\\Users\\\\akalloo\\\\Documents\\\\GitHub\\\\UNet_Glomerulus\\\\figure\\\\UHN_Slide43_48475_6065_mask_208.png',\n 'C:\\\\Users\\\\akalloo\\\\Documents\\\\GitHub\\\\UNet_Glomerulus\\\\figure\\\\UHN_Slide43_48475_6065_predicted_208.png',\n 'C:\\\\Users\\\\akalloo\\\\Documents\\\\GitHub\\\\UNet_Glomerulus\\\\figure\\\\UHN_Slide43_55507_10337_image_209.png',\n 'C:\\\\Users\\\\akalloo\\\\Documents\\\\GitHub\\\\UNet_Glomerulus\\\\figure\\\\UHN_Slide43_55507_10337_mask_209.png',\n 'C:\\\\Users\\\\akalloo\\\\Documents\\\\GitHub\\\\UNet_Glomerulus\\\\figure\\\\UHN_Slide43_55507_10337_predicted_209.png',\n 'C:\\\\Users\\\\akalloo\\\\Documents\\\\GitHub\\\\UNet_Glomerulus\\\\figure\\\\UHN_Slide44_21006_21854_image_210.png',\n 'C:\\\\Users\\\\akalloo\\\\Documents\\\\GitHub\\\\UNet_Glomerulus\\\\figure\\\\UHN_Slide44_21006_21854_mask_210.png',\n 'C:\\\\Users\\\\akalloo\\\\Documents\\\\GitHub\\\\UNet_Glomerulus\\\\figure\\\\UHN_Slide44_21006_21854_predicted_210.png',\n 'C:\\\\Users\\\\akalloo\\\\Documents\\\\GitHub\\\\UNet_Glomerulus\\\\figure\\\\UHN_Slide44_38149_8633_image_211.png',\n 'C:\\\\Users\\\\akalloo\\\\Documents\\\\GitHub\\\\UNet_Glomerulus\\\\figure\\\\UHN_Slide44_38149_8633_mask_211.png',\n 'C:\\\\Users\\\\akalloo\\\\Documents\\\\GitHub\\\\UNet_Glomerulus\\\\figure\\\\UHN_Slide44_38149_8633_predicted_211.png',\n 'C:\\\\Users\\\\akalloo\\\\Documents\\\\GitHub\\\\UNet_Glomerulus\\\\figure\\\\UHN_Slide45_24040_6308_image_212.png',\n 'C:\\\\Users\\\\akalloo\\\\Documents\\\\GitHub\\\\UNet_Glomerulus\\\\figure\\\\UHN_Slide45_24040_6308_mask_212.png',\n 'C:\\\\Users\\\\akalloo\\\\Documents\\\\GitHub\\\\UNet_Glomerulus\\\\figure\\\\UHN_Slide45_24040_6308_predicted_212.png',\n 'C:\\\\Users\\\\akalloo\\\\Documents\\\\GitHub\\\\UNet_Glomerulus\\\\figure\\\\UHN_Slide45_25440_6160_image_213.png',\n 'C:\\\\Users\\\\akalloo\\\\Documents\\\\GitHub\\\\UNet_Glomerulus\\\\figure\\\\UHN_Slide45_25440_6160_mask_213.png',\n 'C:\\\\Users\\\\akalloo\\\\Documents\\\\GitHub\\\\UNet_Glomerulus\\\\figure\\\\UHN_Slide45_25440_6160_predicted_213.png',\n 'C:\\\\Users\\\\akalloo\\\\Documents\\\\GitHub\\\\UNet_Glomerulus\\\\figure\\\\UHN_Slide45_31026_8742_image_214.png',\n 'C:\\\\Users\\\\akalloo\\\\Documents\\\\GitHub\\\\UNet_Glomerulus\\\\figure\\\\UHN_Slide45_31026_8742_mask_214.png',\n 'C:\\\\Users\\\\akalloo\\\\Documents\\\\GitHub\\\\UNet_Glomerulus\\\\figure\\\\UHN_Slide45_31026_8742_predicted_214.png']"
     },
     "execution_count": 256,
     "metadata": {},
     "output_type": "execute_result"
    }
   ],
   "source": [
    "path = r\"C:\\Users\\akalloo\\Documents\\GitHub\\UNet_Glomerulus\\figure\"\n",
    "fns = glob(f\"{path}/*.png\")\n",
    "fns\n",
    "\n",
    "#append_images([Image.open(f\"{path}/source_{i}.png\"), Image.open(f\"{path}/predicted_{i}.png\"), Image.open(f\"{path}/mask_{i}.png\")])"
   ],
   "metadata": {
    "collapsed": false,
    "ExecuteTime": {
     "end_time": "2023-12-04T17:20:24.461582100Z",
     "start_time": "2023-12-04T17:20:24.438453200Z"
    }
   },
   "id": "b0644fdaf134f217"
  },
  {
   "cell_type": "code",
   "execution_count": 275,
   "outputs": [],
   "source": [
    "#[re.findall(\"[0-9]{1,3}.png\", x)[0].replace(\".png\", \"\") for x in fns]\n",
    "for i in range(1, 215):\n",
    "    a = [x for x in fns if f\"_{i}.png\" in x]\n",
    "    append_images([Image.open(x) for x in a]).save(a[0].replace(\".png\", \"_appended.png\"))\n",
    "    "
   ],
   "metadata": {
    "collapsed": false,
    "ExecuteTime": {
     "end_time": "2023-12-04T17:26:26.897959500Z",
     "start_time": "2023-12-04T17:26:23.396672300Z"
    }
   },
   "id": "8338d5d8c30f49a2"
  },
  {
   "cell_type": "code",
   "execution_count": 273,
   "outputs": [
    {
     "data": {
      "text/plain": "'C:\\\\Users\\\\akalloo\\\\Documents\\\\GitHub\\\\UNet_Glomerulus\\\\figure\\\\im_100_image_1_appended.png'"
     },
     "execution_count": 273,
     "metadata": {},
     "output_type": "execute_result"
    }
   ],
   "source": [],
   "metadata": {
    "collapsed": false,
    "ExecuteTime": {
     "end_time": "2023-12-04T17:25:08.691452400Z",
     "start_time": "2023-12-04T17:25:08.682330Z"
    }
   },
   "id": "44629df3c9285525"
  }
 ],
 "metadata": {
  "kernelspec": {
   "display_name": "Python 3",
   "language": "python",
   "name": "python3"
  },
  "language_info": {
   "codemirror_mode": {
    "name": "ipython",
    "version": 2
   },
   "file_extension": ".py",
   "mimetype": "text/x-python",
   "name": "python",
   "nbconvert_exporter": "python",
   "pygments_lexer": "ipython2",
   "version": "2.7.6"
  }
 },
 "nbformat": 4,
 "nbformat_minor": 5
}
